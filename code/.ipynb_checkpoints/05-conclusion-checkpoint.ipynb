{
 "cells": [
  {
   "cell_type": "markdown",
   "metadata": {},
   "source": [
    "# Conclusion\n",
    "In conclusion, the set of words below will provide direction in determining whether r/wallstreetbets or r/SatoshiStreetBets is more suitable for the individual retail investor.\n",
    "\n",
    "The 10 most commonly seen words in r/wallstreetbets are:\n",
    "- gme\n",
    "- amc\n",
    "- moon\n",
    "- stock\n",
    "- apes\n",
    "- buy\n",
    "- just\n",
    "- like\n",
    "- wsb\n",
    "- hold\n",
    "\n",
    "The 10 most commonly seen words in r/SatoshiStreetBets are:\n",
    "- ada\n",
    "- crypto\n",
    "- coin\n",
    "- buy\n",
    "- moon\n",
    "- bitcoin\n",
    "- cardano\n",
    "- btc\n",
    "- just\n",
    "- doge\n",
    "\n",
    "Out of the top 100 most common words seen in r/wallstreetbets and r/SatoshiStreetBets, there are 59 words that are unique to each.\n",
    "\n",
    "For r/wallstreetbets, the unique words include:\n",
    "- 'account', 'advice', 'amc', 'ape', 'apes', 'app', 'bb', 'calls', 'cciv', 'coming', 'dd', 'diamond', 'does', 'fellow', 'financial', 'fuck', 'game', 'gamestop', 'gme', 'goes', 'gonna', 'hands', 'hedge', 'life', 'line', 'lucid', 'march', 'melvin', 'meme', 'need', 'options', 'post', 'real', 'retards', 'robinhood', 'sec', 'sell', 'shares', 'shit', 'sign', 'sos', 'squeeze', 'stimulus', 'stock', 'stocks', 'stop', 'street', 'strong', 'tendies', 'trying', 'use', 'using', 'video', 'wall', 'wallstreetbets', 'want', 'week', 'weeks', 'wsb'\n",
    "\n",
    "For r/SatoshiStreetBets, the unique words include:\n",
    "- '100', 'ada', 'best', 'bitcoin', 'bnb', 'bsc', 'btc', 'btt', 'bull', 'cap', 'cardano', 'check', 'coin', 'coinbase', 'coins', 'crash', 'cro', 'crypto', 'days', 'doge', 'dogecoin', 'elon', 'eth', 'exchange', 'free', 'future', 'gains', 'great', 'high', 'investment', 'join', 'kucoin', 'listed', 'look', 'looking', 'love', 'low', 'million', 'moonshot', 'musk', 'network', 'opportunity', 'portfolio', 'potential', 'project', 'pump', 'ready', 'sale', 'staking', 'start', 'stc', 'term', 'thoughts', 'token', 'usd', 'value', 'vet', 'wallet', 'xrp'\n",
    "\n",
    "For each individual, I would recommend reviewing the sets of words above to understand risk tolerance and the investment type (i.e. stock or crypto) that may be a better fit.\n",
    "\n",
    "**Note:** The logistic regression model I used for the predictions provides hundreds of words with the highest predictive power in determining the classification of a post. For practical purposes, I will not list all of these words."
   ]
  },
  {
   "cell_type": "markdown",
   "metadata": {},
   "source": [
    "### Next Steps\n",
    "To move the project forward, a future step that can be taken includes collecting more data over a wider time span to understand longer term trends and terminology used in r/wallstreetbets and r/SatoshiStreetBets. Given that I used fewer than 2,000 posts from each subreddit, the words that appear in the posts represent a snapshot of the actual terminology associated with the two subreddits. Collecting additional data would not only improve the accuracy of the models but also boost investor confidence in choosing between stocks and crypto."
   ]
  }
 ],
 "metadata": {
  "kernelspec": {
   "display_name": "Python 3",
   "language": "python",
   "name": "python3"
  },
  "language_info": {
   "codemirror_mode": {
    "name": "ipython",
    "version": 3
   },
   "file_extension": ".py",
   "mimetype": "text/x-python",
   "name": "python",
   "nbconvert_exporter": "python",
   "pygments_lexer": "ipython3",
   "version": "3.8.5"
  }
 },
 "nbformat": 4,
 "nbformat_minor": 4
}
