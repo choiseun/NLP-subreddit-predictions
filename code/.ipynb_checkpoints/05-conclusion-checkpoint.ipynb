{
 "cells": [
  {
   "cell_type": "markdown",
   "metadata": {},
   "source": [
    "# Conclusion\n",
    "In conclusion, the set of words below will provide direction in determining whether r/wallstreetbets or r/SatoshiStreetBets is more suitable for the individual retail investor.\n",
    "\n",
    "The 10 most commonly seen words in r/wallstreetbets are:\n",
    "- gme\n",
    "- amc\n",
    "- stock\n",
    "- moon\n",
    "- like\n",
    "- apes\n",
    "- just\n",
    "- wsb\n",
    "- buy\n",
    "- short\n",
    "\n",
    "The 10 most commonly seen words in r/SatoshiStreetBets are:\n",
    "- ada\n",
    "- crypto\n",
    "- coin\n",
    "- buy\n",
    "- bitcoin\n",
    "- moon\n",
    "- btc\n",
    "- cardano\n",
    "- moonshot\n",
    "- just\n",
    "\n",
    "Out of the top 100 most common words seen in r/wallstreetbets and r/SatoshiStreetBets, there are 59 words that are unique to each.\n",
    "\n",
    "For r/wallstreetbets, the unique words include:\n",
    "\n",
    "![](https://raw.githubusercontent.com/choiseun/risk-tolerance/master/images/word_cloud_59_words_wsb.png?token=ASQO6ZGSGJ7LSRMHUPD5RB3AJGDTQ)\n",
    "\n",
    "For r/SatoshiStreetBets, the unique words include:\n",
    "\n",
    "![](https://raw.githubusercontent.com/choiseun/risk-tolerance/master/images/word_cloud_59_words_ssb.png?token=ASQO6ZA3SZP34RLAYKN7YJ3AJGC2G)\n",
    "\n",
    "For each individual, I would recommend reviewing the sets of words above to understand risk tolerance and the investment type (i.e. stock or crypto) that may be a better fit.\n",
    "\n",
    "**Note:** The logistic regression model I used for the predictions provides 690 words with the highest predictive power in determining the classification of a post. For practical purposes, I will not list these 690 words."
   ]
  }
 ],
 "metadata": {
  "kernelspec": {
   "display_name": "Python 3",
   "language": "python",
   "name": "python3"
  },
  "language_info": {
   "codemirror_mode": {
    "name": "ipython",
    "version": 3
   },
   "file_extension": ".py",
   "mimetype": "text/x-python",
   "name": "python",
   "nbconvert_exporter": "python",
   "pygments_lexer": "ipython3",
   "version": "3.8.5"
  }
 },
 "nbformat": 4,
 "nbformat_minor": 4
}
