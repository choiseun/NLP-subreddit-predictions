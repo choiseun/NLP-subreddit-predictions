{
 "cells": [
  {
   "cell_type": "markdown",
   "metadata": {},
   "source": [
    "# Pre-Processing & Modeling"
   ]
  },
  {
   "cell_type": "markdown",
   "metadata": {},
   "source": [
    "### Pre-Processing"
   ]
  },
  {
   "cell_type": "code",
   "execution_count": 1,
   "metadata": {},
   "outputs": [],
   "source": [
    "# Imports\n",
    "import pandas as pd\n",
    "import numpy as np\n",
    "from sklearn.model_selection import train_test_split, GridSearchCV, cross_val_score\n",
    "from sklearn.feature_extraction.text import CountVectorizer, TfidfVectorizer\n",
    "from sklearn.linear_model import LogisticRegression\n",
    "from sklearn.ensemble import RandomForestClassifier\n",
    "from sklearn.naive_bayes import MultinomialNB\n",
    "from sklearn.svm import SVC\n",
    "from sklearn.pipeline import Pipeline\n",
    "from sklearn.metrics import accuracy_score\n",
    "from sklearn.metrics import confusion_matrix, plot_confusion_matrix"
   ]
  },
  {
   "cell_type": "code",
   "execution_count": 2,
   "metadata": {},
   "outputs": [],
   "source": [
    "# Read the cleaned data\n",
    "df = pd.read_csv('../datasets/cleaned_posts.csv')"
   ]
  },
  {
   "cell_type": "code",
   "execution_count": 3,
   "metadata": {},
   "outputs": [
    {
     "data": {
      "text/html": [
       "<div>\n",
       "<style scoped>\n",
       "    .dataframe tbody tr th:only-of-type {\n",
       "        vertical-align: middle;\n",
       "    }\n",
       "\n",
       "    .dataframe tbody tr th {\n",
       "        vertical-align: top;\n",
       "    }\n",
       "\n",
       "    .dataframe thead th {\n",
       "        text-align: right;\n",
       "    }\n",
       "</style>\n",
       "<table border=\"1\" class=\"dataframe\">\n",
       "  <thead>\n",
       "    <tr style=\"text-align: right;\">\n",
       "      <th></th>\n",
       "      <th>subreddit</th>\n",
       "      <th>title</th>\n",
       "      <th>post_char_length</th>\n",
       "      <th>post_word_count</th>\n",
       "      <th>sentiment_compound</th>\n",
       "      <th>sentiment_negative</th>\n",
       "      <th>sentiment_neutral</th>\n",
       "      <th>sentiment_positive</th>\n",
       "      <th>label</th>\n",
       "    </tr>\n",
       "  </thead>\n",
       "  <tbody>\n",
       "    <tr>\n",
       "      <th>0</th>\n",
       "      <td>wallstreetbets</td>\n",
       "      <td>You all should try to SPAC Jeremy Fragrance's ...</td>\n",
       "      <td>53</td>\n",
       "      <td>9</td>\n",
       "      <td>0.0</td>\n",
       "      <td>0.0</td>\n",
       "      <td>1.0</td>\n",
       "      <td>0.0</td>\n",
       "      <td>1</td>\n",
       "    </tr>\n",
       "  </tbody>\n",
       "</table>\n",
       "</div>"
      ],
      "text/plain": [
       "        subreddit                                              title  \\\n",
       "0  wallstreetbets  You all should try to SPAC Jeremy Fragrance's ...   \n",
       "\n",
       "   post_char_length  post_word_count  sentiment_compound  sentiment_negative  \\\n",
       "0                53                9                 0.0                 0.0   \n",
       "\n",
       "   sentiment_neutral  sentiment_positive  label  \n",
       "0                1.0                 0.0      1  "
      ]
     },
     "execution_count": 3,
     "metadata": {},
     "output_type": "execute_result"
    }
   ],
   "source": [
    "# Convert label\n",
    "convert_label = {'wallstreetbets': 1, 'SatoshiStreetBets': 0}\n",
    "\n",
    "# Create a new column with the labeled titles\n",
    "df['label'] = df['subreddit'].map(convert_label)\n",
    "\n",
    "# Check code execution\n",
    "df.head(1)"
   ]
  },
  {
   "cell_type": "code",
   "execution_count": 4,
   "metadata": {},
   "outputs": [
    {
     "data": {
      "text/plain": [
       "0"
      ]
     },
     "execution_count": 4,
     "metadata": {},
     "output_type": "execute_result"
    }
   ],
   "source": [
    "# Check missing values\n",
    "df.isnull().sum().sum()"
   ]
  },
  {
   "cell_type": "code",
   "execution_count": 5,
   "metadata": {},
   "outputs": [],
   "source": [
    "# All stop words (English stop words + most common words shared between WSB and SSB)\n",
    "my_stopwords = list(TfidfVectorizer(stop_words='english').get_stop_words()) + ['2021', 'amp', 'best', 'big', 'bought', 'buy', 'buying', 'day', 'don', 'future', 'going', 'good', 'got', 'guys', 'help', 'hold', 'just', 'know', 'let', 'like', 'long', 'make', 'market', 'monday', 'money', 'moon', 'need', 'new', 'people', 'post', 'price', 'right', 'short', 'think', 'time', 'today', 'trading', 'use', 'way', 'week', 'yolo']"
   ]
  },
  {
   "cell_type": "markdown",
   "metadata": {},
   "source": [
    "### Modeling"
   ]
  },
  {
   "cell_type": "markdown",
   "metadata": {},
   "source": [
    "#### The Null Model"
   ]
  },
  {
   "cell_type": "code",
   "execution_count": 6,
   "metadata": {},
   "outputs": [],
   "source": [
    "# Define X and y\n",
    "X = df['title']\n",
    "y = df['label']"
   ]
  },
  {
   "cell_type": "code",
   "execution_count": 7,
   "metadata": {},
   "outputs": [
    {
     "data": {
      "text/plain": [
       "0    0.502748\n",
       "1    0.497252\n",
       "Name: label, dtype: float64"
      ]
     },
     "execution_count": 7,
     "metadata": {},
     "output_type": "execute_result"
    }
   ],
   "source": [
    "# Find the majority class\n",
    "y.value_counts(normalize=True)"
   ]
  },
  {
   "cell_type": "markdown",
   "metadata": {},
   "source": [
    "**Interpretation:** 50.28% of the posts are from r/SatoshiStreetBets, and 49.71% of the posts are from r/wallstreetbets. The baseline accuracy for the null model is 50.28% because r/SatoshiStreetBets is the majority class. My goal will be to construct a classification model that can predict the correct subreddit from which a post comes with an accuracy above 50.28%."
   ]
  },
  {
   "cell_type": "markdown",
   "metadata": {},
   "source": [
    "#### Model 1: Logistic Regression"
   ]
  },
  {
   "cell_type": "code",
   "execution_count": 8,
   "metadata": {},
   "outputs": [],
   "source": [
    "# Define X and y\n",
    "X = df['title']\n",
    "y = df['label']\n",
    "\n",
    "# Train test split\n",
    "X_train, X_test, y_train, y_test = train_test_split(X, y, random_state=42)"
   ]
  },
  {
   "cell_type": "code",
   "execution_count": 9,
   "metadata": {},
   "outputs": [],
   "source": [
    "# Instantiate and fit the transformer\n",
    "tvec = TfidfVectorizer(stop_words=my_stopwords, min_df=2)\n",
    "X_train_tvec = tvec.fit_transform(X_train)\n",
    "X_test_tvec = tvec.transform(X_test)"
   ]
  },
  {
   "cell_type": "code",
   "execution_count": 10,
   "metadata": {},
   "outputs": [
    {
     "data": {
      "text/plain": [
       "0.8258289703315882"
      ]
     },
     "execution_count": 10,
     "metadata": {},
     "output_type": "execute_result"
    }
   ],
   "source": [
    "# Instantiate and fit logistic regression\n",
    "logreg = LogisticRegression()\n",
    "logreg.fit(X_train_tvec, y_train)\n",
    "\n",
    "# Cross validation\n",
    "cross_val_score(logreg, X_train_tvec, y_train, cv=5).mean()"
   ]
  },
  {
   "cell_type": "code",
   "execution_count": 11,
   "metadata": {},
   "outputs": [
    {
     "data": {
      "text/plain": [
       "(0.9193717277486911, 0.8169456066945606)"
      ]
     },
     "execution_count": 11,
     "metadata": {},
     "output_type": "execute_result"
    }
   ],
   "source": [
    "# Accuracy score for logistic regression\n",
    "logreg.score(X_train_tvec, y_train), logreg.score(X_test_tvec, y_test)"
   ]
  },
  {
   "cell_type": "code",
   "execution_count": 12,
   "metadata": {},
   "outputs": [
    {
     "data": {
      "image/png": "[encoded data removed]",
      "text/plain": [
       "<Figure size 432x288 with 2 Axes>"
      ]
     },
     "metadata": {
      "needs_background": "light"
     },
     "output_type": "display_data"
    }
   ],
   "source": [
    "# Predicted y test values\n",
    "logreg_preds = logreg.predict(X_test_tvec)\n",
    "\n",
    "# Plot a confusion matrix\n",
    "plot_confusion_matrix(logreg, X_test_tvec, y_test, \n",
    "                      values_format='d', display_labels=['ssb','wsb']);"
   ]
  },
  {
   "cell_type": "markdown",
   "metadata": {},
   "source": [
    "**Interpretation:** Model 1 is a classification model that utilizes the tf-idf vectorizer and logistic regression to predict the correct subreddit of a post. The countvectorizer was also considered for pre-processing the text data into a structured, numeric X dataframe, but the tf-idf vectorizer actually resulted in a slightly higher test score with less overfitting. I added the 41 most common terms shared between r/wallstreetbets and r/SatoshiStreetBets to improve the accuracy of the model. Given an accuracy score of 82.98% on the test data, this model easily surpasses the baseline and ideal accuracies outlined in the problem statement. A shortcoming of this model is that it is overfit as evidenced by the difference in training and testing accuracy scores. Overall, this is a fairly robust model for predicting the correct subreddit of a post."
   ]
  },
  {
   "cell_type": "code",
   "execution_count": 13,
   "metadata": {},
   "outputs": [
    {
     "data": {
      "text/plain": [
       "0"
      ]
     },
     "execution_count": 13,
     "metadata": {},
     "output_type": "execute_result"
    }
   ],
   "source": [
    "# Additional analysis for Model 1\n",
    "\n",
    "# Create a dataframe showing the feature name and tf-idf weight of the word\n",
    "my_dict = dict(zip(tvec.get_feature_names(), tvec.idf_))\n",
    "features_df = pd.DataFrame(data=my_dict.items(), columns=['feature_name','tfidf_weight'])\n",
    "\n",
    "# Number of features with the highest tfidf weights\n",
    "my_list = list(features_df[features_df['tfidf_weight']>=7.871437]['feature_name'])\n",
    "len(my_list)"
   ]
  },
  {
   "cell_type": "code",
   "execution_count": 14,
   "metadata": {},
   "outputs": [
    {
     "data": {
      "text/html": [
       "<div>\n",
       "<style scoped>\n",
       "    .dataframe tbody tr th:only-of-type {\n",
       "        vertical-align: middle;\n",
       "    }\n",
       "\n",
       "    .dataframe tbody tr th {\n",
       "        vertical-align: top;\n",
       "    }\n",
       "\n",
       "    .dataframe thead th {\n",
       "        text-align: right;\n",
       "    }\n",
       "</style>\n",
       "<table border=\"1\" class=\"dataframe\">\n",
       "  <thead>\n",
       "    <tr style=\"text-align: right;\">\n",
       "      <th></th>\n",
       "      <th>feature_name</th>\n",
       "      <th>tfidf_weight</th>\n",
       "    </tr>\n",
       "  </thead>\n",
       "  <tbody>\n",
       "    <tr>\n",
       "      <th>627</th>\n",
       "      <td>filecoin</td>\n",
       "      <td>7.86206</td>\n",
       "    </tr>\n",
       "    <tr>\n",
       "      <th>1475</th>\n",
       "      <td>squozed</td>\n",
       "      <td>7.86206</td>\n",
       "    </tr>\n",
       "    <tr>\n",
       "      <th>1483</th>\n",
       "      <td>stand</td>\n",
       "      <td>7.86206</td>\n",
       "    </tr>\n",
       "    <tr>\n",
       "      <th>1481</th>\n",
       "      <td>staked</td>\n",
       "      <td>7.86206</td>\n",
       "    </tr>\n",
       "    <tr>\n",
       "      <th>740</th>\n",
       "      <td>harmony</td>\n",
       "      <td>7.86206</td>\n",
       "    </tr>\n",
       "    <tr>\n",
       "      <th>1480</th>\n",
       "      <td>stake</td>\n",
       "      <td>7.86206</td>\n",
       "    </tr>\n",
       "    <tr>\n",
       "      <th>743</th>\n",
       "      <td>haters</td>\n",
       "      <td>7.86206</td>\n",
       "    </tr>\n",
       "    <tr>\n",
       "      <th>744</th>\n",
       "      <td>havent</td>\n",
       "      <td>7.86206</td>\n",
       "    </tr>\n",
       "    <tr>\n",
       "      <th>1479</th>\n",
       "      <td>staff</td>\n",
       "      <td>7.86206</td>\n",
       "    </tr>\n",
       "    <tr>\n",
       "      <th>746</th>\n",
       "      <td>hbar</td>\n",
       "      <td>7.86206</td>\n",
       "    </tr>\n",
       "  </tbody>\n",
       "</table>\n",
       "</div>"
      ],
      "text/plain": [
       "     feature_name  tfidf_weight\n",
       "627      filecoin       7.86206\n",
       "1475      squozed       7.86206\n",
       "1483        stand       7.86206\n",
       "1481       staked       7.86206\n",
       "740       harmony       7.86206\n",
       "1480        stake       7.86206\n",
       "743        haters       7.86206\n",
       "744        havent       7.86206\n",
       "1479        staff       7.86206\n",
       "746          hbar       7.86206"
      ]
     },
     "execution_count": 14,
     "metadata": {},
     "output_type": "execute_result"
    }
   ],
   "source": [
    "# View the 10 highest weighted feature names\n",
    "features_df.sort_values(by=['tfidf_weight'], ascending=False).head(10)"
   ]
  },
  {
   "cell_type": "markdown",
   "metadata": {},
   "source": [
    "**Interpretation:** The TF-IDF vectorizer assigns the highest weights to 690 words. Thus, the words with a weight of approximately 7.871437 can be considered to be the most predictive for this model."
   ]
  },
  {
   "cell_type": "markdown",
   "metadata": {},
   "source": [
    "#### Model 2: Random Forest"
   ]
  },
  {
   "cell_type": "code",
   "execution_count": 15,
   "metadata": {},
   "outputs": [],
   "source": [
    "# Define X and y\n",
    "X = df['title']\n",
    "y = df['label']\n",
    "\n",
    "# Train test split\n",
    "X_train, X_test, y_train, y_test = train_test_split(X, y, random_state=42)"
   ]
  },
  {
   "cell_type": "code",
   "execution_count": 16,
   "metadata": {},
   "outputs": [],
   "source": [
    "# Set up transformer and estimator via pipeline\n",
    "pipe = Pipeline([\n",
    "    ('tvec', TfidfVectorizer()),\n",
    "    ('rfc', RandomForestClassifier())\n",
    "])"
   ]
  },
  {
   "cell_type": "code",
   "execution_count": 17,
   "metadata": {},
   "outputs": [],
   "source": [
    "# Set up parameters for pipeline\n",
    "pipe_params = {\n",
    "    'tvec__stop_words': ['english', my_stopwords],\n",
    "    'tvec__min_df': [2],\n",
    "    'rfc__n_estimators': [100,150,200],\n",
    "    'rfc__max_depth': [None,1,2,3,4,5]\n",
    "}"
   ]
  },
  {
   "cell_type": "code",
   "execution_count": 18,
   "metadata": {},
   "outputs": [],
   "source": [
    "# Instantiate GridSearchCV\n",
    "gs_cv = GridSearchCV(estimator=pipe,\n",
    "                      param_grid=pipe_params,\n",
    "                      cv=5,\n",
    "                      verbose=1)"
   ]
  },
  {
   "cell_type": "code",
   "execution_count": 19,
   "metadata": {},
   "outputs": [
    {
     "name": "stdout",
     "output_type": "stream",
     "text": [
      "Fitting 5 folds for each of 36 candidates, totalling 180 fits\n"
     ]
    },
    {
     "name": "stderr",
     "output_type": "stream",
     "text": [
      "[Parallel(n_jobs=1)]: Using backend SequentialBackend with 1 concurrent workers.\n",
      "[Parallel(n_jobs=1)]: Done 180 out of 180 | elapsed:  1.5min finished\n"
     ]
    },
    {
     "data": {
      "text/plain": [
       "GridSearchCV(cv=5,\n",
       "             estimator=Pipeline(steps=[('tvec', TfidfVectorizer()),\n",
       "                                       ('rfc', RandomForestClassifier())]),\n",
       "             param_grid={'rfc__max_depth': [None, 1, 2, 3, 4, 5],\n",
       "                         'rfc__n_estimators': [100, 150, 200],\n",
       "                         'tvec__min_df': [2],\n",
       "                         'tvec__stop_words': ['english',\n",
       "                                              ['both', 'yourself', 'nowhere',\n",
       "                                               'anything', 'thereafter', 'more',\n",
       "                                               'cannot', 'cry', 'was', 'yet',\n",
       "                                               'only', 'something', 'besides',\n",
       "                                               'bill', 'this', 'nobody',\n",
       "                                               'hereupon', 'alone', 'forty',\n",
       "                                               'beyond', 'we', 'go', 'up',\n",
       "                                               'myself', 'of', 'back', 'once',\n",
       "                                               'seems', 'nevertheless', 'front', ...]]},\n",
       "             verbose=1)"
      ]
     },
     "execution_count": 19,
     "metadata": {},
     "output_type": "execute_result"
    }
   ],
   "source": [
    "# Fit GridSearchCV\n",
    "gs_cv.fit(X_train, y_train)"
   ]
  },
  {
   "cell_type": "code",
   "execution_count": 20,
   "metadata": {},
   "outputs": [
    {
     "data": {
      "text/plain": [
       "(0.9724258289703316, 0.803347280334728)"
      ]
     },
     "execution_count": 20,
     "metadata": {},
     "output_type": "execute_result"
    }
   ],
   "source": [
    "# Accuracy score for random forest\n",
    "gs_cv.score(X_train, y_train), gs_cv.score(X_test, y_test)"
   ]
  },
  {
   "cell_type": "code",
   "execution_count": 21,
   "metadata": {},
   "outputs": [
    {
     "data": {
      "image/png": "[encoded data removed]",
      "text/plain": [
       "<Figure size 432x288 with 2 Axes>"
      ]
     },
     "metadata": {
      "needs_background": "light"
     },
     "output_type": "display_data"
    }
   ],
   "source": [
    "# Predicted y test values\n",
    "rfc_preds = gs_cv.predict(X_test)\n",
    "\n",
    "# Plot a confusion matrix\n",
    "plot_confusion_matrix(gs_cv, X_test, y_test, \n",
    "                      values_format='d', display_labels=['ssb','wsb']);"
   ]
  },
  {
   "cell_type": "markdown",
   "metadata": {},
   "source": [
    "**Interpretation:** Model 2 is a classification model that utilizes the tf-idf vectorizer to pre-process text data, a pipeline to enable gridsearch to iterate over various hyperparameters, and the random forest model to predict the correct subreddit. While the model's accuracy score of 81.74% for the test data exceeds the baseline accuracy, this random forest model does a poorer job at prediction than Model 1. Not only is the accuracy score for testing data lower, but the variance is higher between the training and testing data for Model 2. The random forest model is quite overfit and does not generalize well to new data. Since Model 2 is weaker than Model 1 as a predictive classification model, I will not consider Model 2 for my production model."
   ]
  },
  {
   "cell_type": "markdown",
   "metadata": {},
   "source": [
    "#### Model 3: Multinomial Naive Bayes"
   ]
  },
  {
   "cell_type": "code",
   "execution_count": 22,
   "metadata": {},
   "outputs": [
    {
     "name": "stdout",
     "output_type": "stream",
     "text": [
      "Fitting 5 folds for each of 24 candidates, totalling 120 fits\n"
     ]
    },
    {
     "name": "stderr",
     "output_type": "stream",
     "text": [
      "[Parallel(n_jobs=1)]: Using backend SequentialBackend with 1 concurrent workers.\n",
      "[Parallel(n_jobs=1)]: Done 120 out of 120 | elapsed:    8.5s finished\n"
     ]
    },
    {
     "data": {
      "text/plain": [
       "GridSearchCV(cv=5,\n",
       "             estimator=Pipeline(steps=[('tvec', TfidfVectorizer()),\n",
       "                                       ('mnb', MultinomialNB())]),\n",
       "             param_grid={'tvec__max_features': [500, 1000, 1500, 2000],\n",
       "                         'tvec__ngram_range': [(1, 1), (1, 2)],\n",
       "                         'tvec__stop_words': [None, 'english',\n",
       "                                              ['both', 'yourself', 'nowhere',\n",
       "                                               'anything', 'thereafter', 'more',\n",
       "                                               'cannot', 'cry', 'was', 'yet',\n",
       "                                               'only', 'something', 'besides',\n",
       "                                               'bill', 'this', 'nobody',\n",
       "                                               'hereupon', 'alone', 'forty',\n",
       "                                               'beyond', 'we', 'go', 'up',\n",
       "                                               'myself', 'of', 'back', 'once',\n",
       "                                               'seems', 'nevertheless', 'front', ...]]},\n",
       "             verbose=1)"
      ]
     },
     "execution_count": 22,
     "metadata": {},
     "output_type": "execute_result"
    }
   ],
   "source": [
    "# Define X and y\n",
    "X = df['title']\n",
    "y = df['label']\n",
    "\n",
    "# Train test split\n",
    "X_train, X_test, y_train, y_test = train_test_split(X, y, random_state=42)\n",
    "\n",
    "# Set up transformer and estimator via pipeline\n",
    "pipe_mnb = Pipeline([\n",
    "    ('tvec', TfidfVectorizer()),\n",
    "    ('mnb', MultinomialNB())\n",
    "])\n",
    "\n",
    "# Set up parameters for pipeline\n",
    "pipe_mnb_params = {\n",
    "    'tvec__max_features': [500,1000,1500,2000],\n",
    "    'tvec__stop_words': [None, 'english', my_stopwords],\n",
    "    'tvec__ngram_range': [(1,1),(1,2)]\n",
    "}\n",
    "\n",
    "# Instantiate GridSearchCV\n",
    "gs_mnb = GridSearchCV(pipe_mnb,\n",
    "                      param_grid=pipe_mnb_params,\n",
    "                      cv=5,\n",
    "                     verbose=1)\n",
    "\n",
    "# Fit GridSearchCV\n",
    "gs_mnb.fit(X_train, y_train)"
   ]
  },
  {
   "cell_type": "code",
   "execution_count": 23,
   "metadata": {},
   "outputs": [
    {
     "data": {
      "text/plain": [
       "(0.9022687609075044, 0.803347280334728)"
      ]
     },
     "execution_count": 23,
     "metadata": {},
     "output_type": "execute_result"
    }
   ],
   "source": [
    "# Accuracy score for multinomial naive bayes\n",
    "gs_mnb.score(X_train, y_train), gs_mnb.score(X_test, y_test)"
   ]
  },
  {
   "cell_type": "code",
   "execution_count": 24,
   "metadata": {},
   "outputs": [
    {
     "data": {
      "image/png": "[encoded data removed]",
      "text/plain": [
       "<Figure size 432x288 with 2 Axes>"
      ]
     },
     "metadata": {
      "needs_background": "light"
     },
     "output_type": "display_data"
    }
   ],
   "source": [
    "# Predicted y test values\n",
    "mnb_preds = gs_mnb.predict(X_test)\n",
    "\n",
    "# Plot a confusion matrix\n",
    "plot_confusion_matrix(gs_mnb, X_test, y_test, \n",
    "                      values_format='d', display_labels=['ssb','wsb']);"
   ]
  },
  {
   "cell_type": "markdown",
   "metadata": {},
   "source": [
    "**Interpretation:** Model 3 is a classification model that uses the tf-idf vectorizer to process text data, a gridsearch to test the optimal combination of hyperparameters, and the multinomial naive bayes model to predict the correct subreddit of a post. While the model is overfit, it is not as overfit as Model 2. Despite beating the baseline accuracy, Model 3 possesses the lowest testing accuracy score of the three models at 81.12%. As a result, I will not consider Model 3 for the production model."
   ]
  },
  {
   "cell_type": "markdown",
   "metadata": {},
   "source": [
    "#### Model 4: Support Vector Classifier"
   ]
  },
  {
   "cell_type": "code",
   "execution_count": 25,
   "metadata": {},
   "outputs": [
    {
     "name": "stdout",
     "output_type": "stream",
     "text": [
      "Fitting 5 folds for each of 24 candidates, totalling 120 fits\n"
     ]
    },
    {
     "name": "stderr",
     "output_type": "stream",
     "text": [
      "[Parallel(n_jobs=1)]: Using backend SequentialBackend with 1 concurrent workers.\n",
      "[Parallel(n_jobs=1)]: Done 120 out of 120 | elapsed:   39.3s finished\n"
     ]
    },
    {
     "data": {
      "text/plain": [
       "GridSearchCV(cv=5,\n",
       "             estimator=Pipeline(steps=[('tvec', TfidfVectorizer()),\n",
       "                                       ('svc', SVC())]),\n",
       "             param_grid={'svc__C': [0.1, 1.0, 10.0],\n",
       "                         'svc__kernel': ['linear', 'rbf', 'poly', 'sigmoid'],\n",
       "                         'tvec__min_df': [2],\n",
       "                         'tvec__stop_words': ['english',\n",
       "                                              ['both', 'yourself', 'nowhere',\n",
       "                                               'anything', 'thereafter', 'more',\n",
       "                                               'cannot', 'cry', 'was', 'yet',\n",
       "                                               'only', 'something', 'besides',\n",
       "                                               'bill', 'this', 'nobody',\n",
       "                                               'hereupon', 'alone', 'forty',\n",
       "                                               'beyond', 'we', 'go', 'up',\n",
       "                                               'myself', 'of', 'back', 'once',\n",
       "                                               'seems', 'nevertheless', 'front', ...]]},\n",
       "             verbose=1)"
      ]
     },
     "execution_count": 25,
     "metadata": {},
     "output_type": "execute_result"
    }
   ],
   "source": [
    "# Define X and y\n",
    "X = df['title']\n",
    "y = df['label']\n",
    "\n",
    "# Train test split\n",
    "X_train, X_test, y_train, y_test = train_test_split(X, y, random_state=42)\n",
    "\n",
    "# Set up transformer and estimator via pipeline\n",
    "pipe_svc = Pipeline([\n",
    "    ('tvec', TfidfVectorizer()),\n",
    "    ('svc', SVC())\n",
    "     ])\n",
    "\n",
    "# Set up parameters for pipeline\n",
    "pipe_svc_params = {\n",
    "    'tvec__stop_words': ['english',my_stopwords],\n",
    "    'tvec__min_df': [2],\n",
    "    'svc__C': [0.1,1.0,10.0],\n",
    "    'svc__kernel': ['linear','rbf','poly','sigmoid']\n",
    "}\n",
    "\n",
    "# Instantiate GridSearchCV    \n",
    "gs_svc = GridSearchCV(pipe_svc,\n",
    "                      param_grid=pipe_svc_params,\n",
    "                      cv=5,\n",
    "                     verbose=1)\n",
    "\n",
    "# Fit GridSearchCV\n",
    "gs_svc.fit(X_train,y_train)"
   ]
  },
  {
   "cell_type": "code",
   "execution_count": 26,
   "metadata": {},
   "outputs": [
    {
     "data": {
      "text/plain": [
       "(0.9458987783595113, 0.8127615062761506)"
      ]
     },
     "execution_count": 26,
     "metadata": {},
     "output_type": "execute_result"
    }
   ],
   "source": [
    "# Accuracy score for SVC\n",
    "gs_svc.score(X_train,y_train), gs_svc.score(X_test,y_test)"
   ]
  },
  {
   "cell_type": "code",
   "execution_count": 27,
   "metadata": {},
   "outputs": [
    {
     "data": {
      "image/png": "[encoded data removed]",
      "text/plain": [
       "<Figure size 432x288 with 2 Axes>"
      ]
     },
     "metadata": {
      "needs_background": "light"
     },
     "output_type": "display_data"
    }
   ],
   "source": [
    "# Predicted y test values\n",
    "preds_svc = gs_svc.predict(X_test)\n",
    "\n",
    "# Plot a confusion matrix\n",
    "plot_confusion_matrix(gs_svc,X_test,y_test,\n",
    "                      values_format='d',display_labels=['ssb','wsb']);"
   ]
  },
  {
   "cell_type": "markdown",
   "metadata": {},
   "source": [
    "**Interpretation:** Model 4 is a classification model that utilizes the tf-idf vectorizer to pre-process text data, a gridsearch to determine the optimal mix of hyperparameters, and the support vector classifier model to predict the correct subreddit of a post. The model has high variance and has a decent test accuracy score of 81.53%. Since the predictive capability of Model 4 does not exceed that of Model 1, I will not consider Model 4 for the production model."
   ]
  },
  {
   "cell_type": "markdown",
   "metadata": {},
   "source": [
    "### Production Model\n",
    "The logistic regression model (i.e. Model 1) is my choice for the production model. Since the model has the highest accuracy score for the test data and is one of the less overfit models, I am confident that the model will perform the best at predicting if a post came from r/wallstreetbets or r/SatoshiStreetBets."
   ]
  },
  {
   "cell_type": "markdown",
   "metadata": {},
   "source": [
    "### Executive Summary\n",
    "The goals of this project were two-fold: (1) the first was to process natural language scraped from Pushshift's web API in order to construct a classification model that could predict which of two subreddits a post came from with at least an 80% accuracy score and (2) the second was to determine an investment type (i.e. stock or crypto) that may be more suitable to the individual retail investor based on the keywords with which the individual identifies. Through the iterative process of model tuning, I was able to build a logistic regression model with the desirable accuracy and found the words with the most predictive power for classification. In addition, I performed sentiment analysis to understand the range of positive and negative emotions that are tied to the words used in each subreddit. Based on my findings, it appears that there are words unique to members of r/wallstreetbets and r/SatoshiStreetBets that may inform the individual to side with a particular investment type (i.e. stock or crypto)."
   ]
  }
 ],
 "metadata": {
  "kernelspec": {
   "display_name": "Python 3",
   "language": "python",
   "name": "python3"
  },
  "language_info": {
   "codemirror_mode": {
    "name": "ipython",
    "version": 3
   },
   "file_extension": ".py",
   "mimetype": "text/x-python",
   "name": "python",
   "nbconvert_exporter": "python",
   "pygments_lexer": "ipython3",
   "version": "3.8.5"
  }
 },
 "nbformat": 4,
 "nbformat_minor": 4
}
