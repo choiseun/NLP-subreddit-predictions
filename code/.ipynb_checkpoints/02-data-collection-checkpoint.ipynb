{
 "cells": [
  {
   "cell_type": "markdown",
   "metadata": {},
   "source": [
    "# Data Collection"
   ]
  },
  {
   "cell_type": "markdown",
   "metadata": {},
   "source": [
    "Referenced: https://www.youtube.com/watch?v=AcrjEWsMi_E&feature=youtu.be <br>\n",
    "Referenced: https://git.generalassemb.ly/DSIR-Lancelot/5.02-lesson-webscraping/blob/master/Codealong-Adi-InClass.ipynb"
   ]
  },
  {
   "cell_type": "code",
   "execution_count": 1,
   "metadata": {},
   "outputs": [],
   "source": [
    "# Imports\n",
    "import pandas as pd\n",
    "import requests\n",
    "import time"
   ]
  },
  {
   "cell_type": "code",
   "execution_count": 2,
   "metadata": {},
   "outputs": [],
   "source": [
    "# Choose two subreddits\n",
    "subreddit_1 = 'wallstreetbets'\n",
    "subreddit_2 = 'SatoshiStreetBets'"
   ]
  },
  {
   "cell_type": "code",
   "execution_count": 3,
   "metadata": {},
   "outputs": [],
   "source": [
    "# Define base url\n",
    "base_url = 'https://api.pushshift.io/reddit/search/submission'"
   ]
  },
  {
   "cell_type": "code",
   "execution_count": 4,
   "metadata": {},
   "outputs": [],
   "source": [
    "# Define present utc\n",
    "present_utc = 1614650800"
   ]
  },
  {
   "cell_type": "markdown",
   "metadata": {},
   "source": [
    "**Explanation of the Pushshift API scraping process:** I begin by defining a function that returns the first 100 posts from a subreddit because Pushshift's API limits the number of posts that can be scraped to 100 posts per request. I compare two subreddits in this project, so the function facilitates the process of retrieving the first 100 posts for both subreddits. I then create separate data frames for both subreddits using the first 100 posts so that I can later apply a for loop that can scrape additional posts as needed and concatenate the new data frame with the original data frame. I combine the data frames for r/wallstreetbets and r/SatoshiStreetBets at the end once I am able to verify that the individual data frames collected ample unique posts."
   ]
  },
  {
   "cell_type": "code",
   "execution_count": 5,
   "metadata": {},
   "outputs": [],
   "source": [
    "# Define a function that returns the first 100 posts from a subreddit\n",
    "def posts_100(subreddit,before):\n",
    "    \n",
    "    # Define parameters\n",
    "    params = {\n",
    "        'subreddit': subreddit,\n",
    "        'size': 100,\n",
    "        'before': present_utc\n",
    "    }\n",
    "\n",
    "    # Request content\n",
    "    res = requests.get(base_url, params)\n",
    "\n",
    "    # Convert to json\n",
    "    json_dict = res.json()\n",
    "\n",
    "    # First 100 posts\n",
    "    posts = json_dict['data']\n",
    "\n",
    "    return posts"
   ]
  },
  {
   "cell_type": "code",
   "execution_count": 6,
   "metadata": {},
   "outputs": [
    {
     "data": {
      "text/plain": [
       "1614486808"
      ]
     },
     "execution_count": 6,
     "metadata": {},
     "output_type": "execute_result"
    }
   ],
   "source": [
    "# First 100 posts for WSB\n",
    "wsb_posts_100 = posts_100('wallstreetbets',present_utc)\n",
    "\n",
    "# WSB last utc\n",
    "# Received help from Gabrielle Burgos\n",
    "wsb_last_utc = wsb_posts_100[-1]['created_utc']\n",
    "wsb_last_utc"
   ]
  },
  {
   "cell_type": "code",
   "execution_count": 7,
   "metadata": {},
   "outputs": [
    {
     "data": {
      "text/html": [
       "<div>\n",
       "<style scoped>\n",
       "    .dataframe tbody tr th:only-of-type {\n",
       "        vertical-align: middle;\n",
       "    }\n",
       "\n",
       "    .dataframe tbody tr th {\n",
       "        vertical-align: top;\n",
       "    }\n",
       "\n",
       "    .dataframe thead th {\n",
       "        text-align: right;\n",
       "    }\n",
       "</style>\n",
       "<table border=\"1\" class=\"dataframe\">\n",
       "  <thead>\n",
       "    <tr style=\"text-align: right;\">\n",
       "      <th></th>\n",
       "      <th>subreddit</th>\n",
       "      <th>title</th>\n",
       "    </tr>\n",
       "  </thead>\n",
       "  <tbody>\n",
       "    <tr>\n",
       "      <th>0</th>\n",
       "      <td>wallstreetbets</td>\n",
       "      <td>You all should try to SPAC Jeremy Fragrance's ...</td>\n",
       "    </tr>\n",
       "    <tr>\n",
       "      <th>1</th>\n",
       "      <td>wallstreetbets</td>\n",
       "      <td>Are you ready for marriage love test</td>\n",
       "    </tr>\n",
       "    <tr>\n",
       "      <th>2</th>\n",
       "      <td>wallstreetbets</td>\n",
       "      <td>Serious question: Is it too late to buy in now?</td>\n",
       "    </tr>\n",
       "  </tbody>\n",
       "</table>\n",
       "</div>"
      ],
      "text/plain": [
       "        subreddit                                              title\n",
       "0  wallstreetbets  You all should try to SPAC Jeremy Fragrance's ...\n",
       "1  wallstreetbets               Are you ready for marriage love test\n",
       "2  wallstreetbets    Serious question: Is it too late to buy in now?"
      ]
     },
     "execution_count": 7,
     "metadata": {},
     "output_type": "execute_result"
    }
   ],
   "source": [
    "# WSB dataframe with 100 posts\n",
    "wsb_df = pd.DataFrame(wsb_posts_100)[['subreddit','title']]\n",
    "\n",
    "# Check code execution\n",
    "wsb_df.head(3)"
   ]
  },
  {
   "cell_type": "code",
   "execution_count": 8,
   "metadata": {},
   "outputs": [],
   "source": [
    "# Create a WSB dataframe with 2000 comments using a for loop\n",
    "for i in range(19):\n",
    "    params = {'subreddit':'wallstreetbets',\n",
    "              'size':100,\n",
    "              'before':wsb_last_utc}\n",
    "    res = requests.get(base_url,params).json()\n",
    "    posts = res['data']\n",
    "    wsb_last_utc = posts[-1]['created_utc']\n",
    "    new_df = pd.DataFrame(posts)[['subreddit','title']]\n",
    "    wsb_df = pd.concat([wsb_df,new_df])\n",
    "    time.sleep(3)"
   ]
  },
  {
   "cell_type": "code",
   "execution_count": 9,
   "metadata": {},
   "outputs": [
    {
     "data": {
      "text/html": [
       "<div>\n",
       "<style scoped>\n",
       "    .dataframe tbody tr th:only-of-type {\n",
       "        vertical-align: middle;\n",
       "    }\n",
       "\n",
       "    .dataframe tbody tr th {\n",
       "        vertical-align: top;\n",
       "    }\n",
       "\n",
       "    .dataframe thead th {\n",
       "        text-align: right;\n",
       "    }\n",
       "</style>\n",
       "<table border=\"1\" class=\"dataframe\">\n",
       "  <thead>\n",
       "    <tr style=\"text-align: right;\">\n",
       "      <th></th>\n",
       "      <th>subreddit</th>\n",
       "      <th>title</th>\n",
       "    </tr>\n",
       "  </thead>\n",
       "  <tbody>\n",
       "    <tr>\n",
       "      <th>0</th>\n",
       "      <td>wallstreetbets</td>\n",
       "      <td>You all should try to SPAC Jeremy Fragrance's ...</td>\n",
       "    </tr>\n",
       "    <tr>\n",
       "      <th>1</th>\n",
       "      <td>wallstreetbets</td>\n",
       "      <td>Are you ready for marriage love test</td>\n",
       "    </tr>\n",
       "    <tr>\n",
       "      <th>2</th>\n",
       "      <td>wallstreetbets</td>\n",
       "      <td>Serious question: Is it too late to buy in now?</td>\n",
       "    </tr>\n",
       "    <tr>\n",
       "      <th>3</th>\n",
       "      <td>wallstreetbets</td>\n",
       "      <td>Need some advice...</td>\n",
       "    </tr>\n",
       "    <tr>\n",
       "      <th>4</th>\n",
       "      <td>wallstreetbets</td>\n",
       "      <td>tin foil hat time! Is Vlad really that stupid?</td>\n",
       "    </tr>\n",
       "    <tr>\n",
       "      <th>...</th>\n",
       "      <td>...</td>\n",
       "      <td>...</td>\n",
       "    </tr>\n",
       "    <tr>\n",
       "      <th>95</th>\n",
       "      <td>wallstreetbets</td>\n",
       "      <td>Is there really paid shills, positive or negat...</td>\n",
       "    </tr>\n",
       "    <tr>\n",
       "      <th>96</th>\n",
       "      <td>wallstreetbets</td>\n",
       "      <td>GME</td>\n",
       "    </tr>\n",
       "    <tr>\n",
       "      <th>97</th>\n",
       "      <td>wallstreetbets</td>\n",
       "      <td>3 Years - 3,000 to 3,000,000. - Day 1 (Saturda...</td>\n",
       "    </tr>\n",
       "    <tr>\n",
       "      <th>98</th>\n",
       "      <td>wallstreetbets</td>\n",
       "      <td>We like the Stock.</td>\n",
       "    </tr>\n",
       "    <tr>\n",
       "      <th>99</th>\n",
       "      <td>wallstreetbets</td>\n",
       "      <td>Can we get a whole tendies album?</td>\n",
       "    </tr>\n",
       "  </tbody>\n",
       "</table>\n",
       "<p>2000 rows × 2 columns</p>\n",
       "</div>"
      ],
      "text/plain": [
       "         subreddit                                              title\n",
       "0   wallstreetbets  You all should try to SPAC Jeremy Fragrance's ...\n",
       "1   wallstreetbets               Are you ready for marriage love test\n",
       "2   wallstreetbets    Serious question: Is it too late to buy in now?\n",
       "3   wallstreetbets                                Need some advice...\n",
       "4   wallstreetbets     tin foil hat time! Is Vlad really that stupid?\n",
       "..             ...                                                ...\n",
       "95  wallstreetbets  Is there really paid shills, positive or negat...\n",
       "96  wallstreetbets                                                GME\n",
       "97  wallstreetbets  3 Years - 3,000 to 3,000,000. - Day 1 (Saturda...\n",
       "98  wallstreetbets                                 We like the Stock.\n",
       "99  wallstreetbets                  Can we get a whole tendies album?\n",
       "\n",
       "[2000 rows x 2 columns]"
      ]
     },
     "execution_count": 9,
     "metadata": {},
     "output_type": "execute_result"
    }
   ],
   "source": [
    "# Check code execution\n",
    "wsb_df"
   ]
  },
  {
   "cell_type": "code",
   "execution_count": 10,
   "metadata": {},
   "outputs": [
    {
     "data": {
      "text/plain": [
       "1900"
      ]
     },
     "execution_count": 10,
     "metadata": {},
     "output_type": "execute_result"
    }
   ],
   "source": [
    "# Check unique number of rows\n",
    "len(wsb_df['title'].unique())"
   ]
  },
  {
   "cell_type": "code",
   "execution_count": 11,
   "metadata": {},
   "outputs": [],
   "source": [
    "# Drop duplicate rows from dataframe\n",
    "wsb_df.drop_duplicates(inplace=True)"
   ]
  },
  {
   "cell_type": "code",
   "execution_count": 12,
   "metadata": {},
   "outputs": [
    {
     "data": {
      "text/plain": [
       "(1900, 2)"
      ]
     },
     "execution_count": 12,
     "metadata": {},
     "output_type": "execute_result"
    }
   ],
   "source": [
    "# Check shape\n",
    "wsb_df.shape"
   ]
  },
  {
   "cell_type": "code",
   "execution_count": 13,
   "metadata": {},
   "outputs": [
    {
     "data": {
      "text/plain": [
       "1614463124"
      ]
     },
     "execution_count": 13,
     "metadata": {},
     "output_type": "execute_result"
    }
   ],
   "source": [
    "# First 100 posts for SSB\n",
    "ssb_posts_100 = posts_100('SatoshiStreetBets',present_utc)\n",
    "\n",
    "# SSB last utc\n",
    "ssb_last_utc = ssb_posts_100[-1]['created_utc']\n",
    "ssb_last_utc"
   ]
  },
  {
   "cell_type": "code",
   "execution_count": 14,
   "metadata": {},
   "outputs": [
    {
     "data": {
      "text/html": [
       "<div>\n",
       "<style scoped>\n",
       "    .dataframe tbody tr th:only-of-type {\n",
       "        vertical-align: middle;\n",
       "    }\n",
       "\n",
       "    .dataframe tbody tr th {\n",
       "        vertical-align: top;\n",
       "    }\n",
       "\n",
       "    .dataframe thead th {\n",
       "        text-align: right;\n",
       "    }\n",
       "</style>\n",
       "<table border=\"1\" class=\"dataframe\">\n",
       "  <thead>\n",
       "    <tr style=\"text-align: right;\">\n",
       "      <th></th>\n",
       "      <th>subreddit</th>\n",
       "      <th>title</th>\n",
       "    </tr>\n",
       "  </thead>\n",
       "  <tbody>\n",
       "    <tr>\n",
       "      <th>0</th>\n",
       "      <td>SatoshiStreetBets</td>\n",
       "      <td>Why are alts still so attached to bitcoin...</td>\n",
       "    </tr>\n",
       "    <tr>\n",
       "      <th>1</th>\n",
       "      <td>SatoshiStreetBets</td>\n",
       "      <td>Market Cap should not be an issue, Lets Moonsh...</td>\n",
       "    </tr>\n",
       "    <tr>\n",
       "      <th>2</th>\n",
       "      <td>SatoshiStreetBets</td>\n",
       "      <td>$SRK Sparkpoint</td>\n",
       "    </tr>\n",
       "  </tbody>\n",
       "</table>\n",
       "</div>"
      ],
      "text/plain": [
       "           subreddit                                              title\n",
       "0  SatoshiStreetBets       Why are alts still so attached to bitcoin...\n",
       "1  SatoshiStreetBets  Market Cap should not be an issue, Lets Moonsh...\n",
       "2  SatoshiStreetBets                                    $SRK Sparkpoint"
      ]
     },
     "execution_count": 14,
     "metadata": {},
     "output_type": "execute_result"
    }
   ],
   "source": [
    "# SSB dataframe with 100 posts\n",
    "ssb_df = pd.DataFrame(ssb_posts_100)[['subreddit','title']]\n",
    "\n",
    "# Check code execution\n",
    "ssb_df.head(3)"
   ]
  },
  {
   "cell_type": "code",
   "execution_count": 15,
   "metadata": {},
   "outputs": [],
   "source": [
    "# Create a SSB dataframe with 2000 comments using a for loop\n",
    "for i in range(19):\n",
    "    params = {'subreddit':'SatoshiStreetBets',\n",
    "              'size':100,\n",
    "              'before':ssb_last_utc}\n",
    "    res = requests.get(base_url,params).json()\n",
    "    posts = res['data']\n",
    "    ssb_last_utc = posts[-1]['created_utc']\n",
    "    new_df = pd.DataFrame(posts)[['subreddit','title']]\n",
    "    ssb_df = pd.concat([ssb_df,new_df])\n",
    "    time.sleep(3)"
   ]
  },
  {
   "cell_type": "code",
   "execution_count": 16,
   "metadata": {},
   "outputs": [
    {
     "data": {
      "text/html": [
       "<div>\n",
       "<style scoped>\n",
       "    .dataframe tbody tr th:only-of-type {\n",
       "        vertical-align: middle;\n",
       "    }\n",
       "\n",
       "    .dataframe tbody tr th {\n",
       "        vertical-align: top;\n",
       "    }\n",
       "\n",
       "    .dataframe thead th {\n",
       "        text-align: right;\n",
       "    }\n",
       "</style>\n",
       "<table border=\"1\" class=\"dataframe\">\n",
       "  <thead>\n",
       "    <tr style=\"text-align: right;\">\n",
       "      <th></th>\n",
       "      <th>subreddit</th>\n",
       "      <th>title</th>\n",
       "    </tr>\n",
       "  </thead>\n",
       "  <tbody>\n",
       "    <tr>\n",
       "      <th>0</th>\n",
       "      <td>SatoshiStreetBets</td>\n",
       "      <td>Why are alts still so attached to bitcoin...</td>\n",
       "    </tr>\n",
       "    <tr>\n",
       "      <th>1</th>\n",
       "      <td>SatoshiStreetBets</td>\n",
       "      <td>Market Cap should not be an issue, Lets Moonsh...</td>\n",
       "    </tr>\n",
       "    <tr>\n",
       "      <th>2</th>\n",
       "      <td>SatoshiStreetBets</td>\n",
       "      <td>$SRK Sparkpoint</td>\n",
       "    </tr>\n",
       "    <tr>\n",
       "      <th>3</th>\n",
       "      <td>SatoshiStreetBets</td>\n",
       "      <td>Hidden gem and sleeping giant</td>\n",
       "    </tr>\n",
       "    <tr>\n",
       "      <th>4</th>\n",
       "      <td>SatoshiStreetBets</td>\n",
       "      <td>Grayscale Bitcoin Premium Shrinks As Cardano R...</td>\n",
       "    </tr>\n",
       "    <tr>\n",
       "      <th>...</th>\n",
       "      <td>...</td>\n",
       "      <td>...</td>\n",
       "    </tr>\n",
       "    <tr>\n",
       "      <th>95</th>\n",
       "      <td>SatoshiStreetBets</td>\n",
       "      <td>🚀$MITX Massive Buy Opportunity 7x Inbound🚀</td>\n",
       "    </tr>\n",
       "    <tr>\n",
       "      <th>96</th>\n",
       "      <td>SatoshiStreetBets</td>\n",
       "      <td>Buy CELR, here's why!</td>\n",
       "    </tr>\n",
       "    <tr>\n",
       "      <th>97</th>\n",
       "      <td>SatoshiStreetBets</td>\n",
       "      <td>Crash?</td>\n",
       "    </tr>\n",
       "    <tr>\n",
       "      <th>98</th>\n",
       "      <td>SatoshiStreetBets</td>\n",
       "      <td>Why are prices crashing?</td>\n",
       "    </tr>\n",
       "    <tr>\n",
       "      <th>99</th>\n",
       "      <td>SatoshiStreetBets</td>\n",
       "      <td>This community is getting toxic and CRINGY</td>\n",
       "    </tr>\n",
       "  </tbody>\n",
       "</table>\n",
       "<p>2000 rows × 2 columns</p>\n",
       "</div>"
      ],
      "text/plain": [
       "            subreddit                                              title\n",
       "0   SatoshiStreetBets       Why are alts still so attached to bitcoin...\n",
       "1   SatoshiStreetBets  Market Cap should not be an issue, Lets Moonsh...\n",
       "2   SatoshiStreetBets                                    $SRK Sparkpoint\n",
       "3   SatoshiStreetBets                      Hidden gem and sleeping giant\n",
       "4   SatoshiStreetBets  Grayscale Bitcoin Premium Shrinks As Cardano R...\n",
       "..                ...                                                ...\n",
       "95  SatoshiStreetBets         🚀$MITX Massive Buy Opportunity 7x Inbound🚀\n",
       "96  SatoshiStreetBets                              Buy CELR, here's why!\n",
       "97  SatoshiStreetBets                                             Crash?\n",
       "98  SatoshiStreetBets                           Why are prices crashing?\n",
       "99  SatoshiStreetBets         This community is getting toxic and CRINGY\n",
       "\n",
       "[2000 rows x 2 columns]"
      ]
     },
     "execution_count": 16,
     "metadata": {},
     "output_type": "execute_result"
    }
   ],
   "source": [
    "# Check code execution\n",
    "ssb_df"
   ]
  },
  {
   "cell_type": "code",
   "execution_count": 17,
   "metadata": {},
   "outputs": [
    {
     "data": {
      "text/plain": [
       "1921"
      ]
     },
     "execution_count": 17,
     "metadata": {},
     "output_type": "execute_result"
    }
   ],
   "source": [
    "# Check unique number of rows\n",
    "len(ssb_df['title'].unique())"
   ]
  },
  {
   "cell_type": "code",
   "execution_count": 18,
   "metadata": {},
   "outputs": [],
   "source": [
    "# Drop duplicate rows from dataframe\n",
    "ssb_df.drop_duplicates(inplace=True)"
   ]
  },
  {
   "cell_type": "code",
   "execution_count": 19,
   "metadata": {},
   "outputs": [
    {
     "data": {
      "text/plain": [
       "(1921, 2)"
      ]
     },
     "execution_count": 19,
     "metadata": {},
     "output_type": "execute_result"
    }
   ],
   "source": [
    "# Check shape\n",
    "ssb_df.shape"
   ]
  },
  {
   "cell_type": "code",
   "execution_count": 20,
   "metadata": {},
   "outputs": [
    {
     "data": {
      "text/html": [
       "<div>\n",
       "<style scoped>\n",
       "    .dataframe tbody tr th:only-of-type {\n",
       "        vertical-align: middle;\n",
       "    }\n",
       "\n",
       "    .dataframe tbody tr th {\n",
       "        vertical-align: top;\n",
       "    }\n",
       "\n",
       "    .dataframe thead th {\n",
       "        text-align: right;\n",
       "    }\n",
       "</style>\n",
       "<table border=\"1\" class=\"dataframe\">\n",
       "  <thead>\n",
       "    <tr style=\"text-align: right;\">\n",
       "      <th></th>\n",
       "      <th>subreddit</th>\n",
       "      <th>title</th>\n",
       "    </tr>\n",
       "  </thead>\n",
       "  <tbody>\n",
       "    <tr>\n",
       "      <th>0</th>\n",
       "      <td>wallstreetbets</td>\n",
       "      <td>You all should try to SPAC Jeremy Fragrance's ...</td>\n",
       "    </tr>\n",
       "    <tr>\n",
       "      <th>1</th>\n",
       "      <td>wallstreetbets</td>\n",
       "      <td>Are you ready for marriage love test</td>\n",
       "    </tr>\n",
       "    <tr>\n",
       "      <th>2</th>\n",
       "      <td>wallstreetbets</td>\n",
       "      <td>Serious question: Is it too late to buy in now?</td>\n",
       "    </tr>\n",
       "    <tr>\n",
       "      <th>3</th>\n",
       "      <td>wallstreetbets</td>\n",
       "      <td>Need some advice...</td>\n",
       "    </tr>\n",
       "    <tr>\n",
       "      <th>4</th>\n",
       "      <td>wallstreetbets</td>\n",
       "      <td>tin foil hat time! Is Vlad really that stupid?</td>\n",
       "    </tr>\n",
       "    <tr>\n",
       "      <th>...</th>\n",
       "      <td>...</td>\n",
       "      <td>...</td>\n",
       "    </tr>\n",
       "    <tr>\n",
       "      <th>95</th>\n",
       "      <td>SatoshiStreetBets</td>\n",
       "      <td>🚀$MITX Massive Buy Opportunity 7x Inbound🚀</td>\n",
       "    </tr>\n",
       "    <tr>\n",
       "      <th>96</th>\n",
       "      <td>SatoshiStreetBets</td>\n",
       "      <td>Buy CELR, here's why!</td>\n",
       "    </tr>\n",
       "    <tr>\n",
       "      <th>97</th>\n",
       "      <td>SatoshiStreetBets</td>\n",
       "      <td>Crash?</td>\n",
       "    </tr>\n",
       "    <tr>\n",
       "      <th>98</th>\n",
       "      <td>SatoshiStreetBets</td>\n",
       "      <td>Why are prices crashing?</td>\n",
       "    </tr>\n",
       "    <tr>\n",
       "      <th>99</th>\n",
       "      <td>SatoshiStreetBets</td>\n",
       "      <td>This community is getting toxic and CRINGY</td>\n",
       "    </tr>\n",
       "  </tbody>\n",
       "</table>\n",
       "<p>3821 rows × 2 columns</p>\n",
       "</div>"
      ],
      "text/plain": [
       "            subreddit                                              title\n",
       "0      wallstreetbets  You all should try to SPAC Jeremy Fragrance's ...\n",
       "1      wallstreetbets               Are you ready for marriage love test\n",
       "2      wallstreetbets    Serious question: Is it too late to buy in now?\n",
       "3      wallstreetbets                                Need some advice...\n",
       "4      wallstreetbets     tin foil hat time! Is Vlad really that stupid?\n",
       "..                ...                                                ...\n",
       "95  SatoshiStreetBets         🚀$MITX Massive Buy Opportunity 7x Inbound🚀\n",
       "96  SatoshiStreetBets                              Buy CELR, here's why!\n",
       "97  SatoshiStreetBets                                             Crash?\n",
       "98  SatoshiStreetBets                           Why are prices crashing?\n",
       "99  SatoshiStreetBets         This community is getting toxic and CRINGY\n",
       "\n",
       "[3821 rows x 2 columns]"
      ]
     },
     "execution_count": 20,
     "metadata": {},
     "output_type": "execute_result"
    }
   ],
   "source": [
    "# Combine WSB and SSB dataframes\n",
    "combined_df = pd.concat([wsb_df,ssb_df])\n",
    "combined_df"
   ]
  },
  {
   "cell_type": "code",
   "execution_count": 21,
   "metadata": {},
   "outputs": [
    {
     "data": {
      "text/plain": [
       "3814"
      ]
     },
     "execution_count": 21,
     "metadata": {},
     "output_type": "execute_result"
    }
   ],
   "source": [
    "# Check unique number of rows\n",
    "len(combined_df['title'].unique())"
   ]
  },
  {
   "cell_type": "code",
   "execution_count": 22,
   "metadata": {},
   "outputs": [],
   "source": [
    "# Save as csv file\n",
    "combined_df.to_csv('../datasets/posts.csv', index=False)"
   ]
  }
 ],
 "metadata": {
  "kernelspec": {
   "display_name": "Python 3",
   "language": "python",
   "name": "python3"
  },
  "language_info": {
   "codemirror_mode": {
    "name": "ipython",
    "version": 3
   },
   "file_extension": ".py",
   "mimetype": "text/x-python",
   "name": "python",
   "nbconvert_exporter": "python",
   "pygments_lexer": "ipython3",
   "version": "3.8.5"
  }
 },
 "nbformat": 4,
 "nbformat_minor": 4
}
