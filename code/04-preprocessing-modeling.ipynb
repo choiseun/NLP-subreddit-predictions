{
 "cells": [
  {
   "cell_type": "markdown",
   "metadata": {},
   "source": [
    "# Pre-Processing & Modeling"
   ]
  },
  {
   "cell_type": "markdown",
   "metadata": {},
   "source": [
    "### Pre-Processing"
   ]
  },
  {
   "cell_type": "code",
   "execution_count": 1,
   "metadata": {},
   "outputs": [],
   "source": [
    "# Imports\n",
    "import pandas as pd\n",
    "import numpy as np\n",
    "import matplotlib.pyplot as plt\n",
    "from sklearn.model_selection import train_test_split, GridSearchCV, cross_val_score\n",
    "from sklearn.feature_extraction.text import CountVectorizer, TfidfVectorizer\n",
    "from sklearn.linear_model import LogisticRegression\n",
    "from sklearn.ensemble import RandomForestClassifier, BaggingClassifier, AdaBoostClassifier\n",
    "from sklearn.naive_bayes import MultinomialNB\n",
    "from sklearn.svm import SVC\n",
    "from sklearn.pipeline import Pipeline\n",
    "from sklearn.metrics import accuracy_score, confusion_matrix, plot_confusion_matrix, plot_roc_curve, roc_auc_score, classification_report\n",
    "from sklearn.tree import DecisionTreeClassifier"
   ]
  },
  {
   "cell_type": "code",
   "execution_count": 2,
   "metadata": {},
   "outputs": [],
   "source": [
    "# Read the cleaned data\n",
    "df = pd.read_csv('../datasets/cleaned_posts.csv')"
   ]
  },
  {
   "cell_type": "code",
   "execution_count": 3,
   "metadata": {},
   "outputs": [
    {
     "data": {
      "text/html": [
       "<div>\n",
       "<style scoped>\n",
       "    .dataframe tbody tr th:only-of-type {\n",
       "        vertical-align: middle;\n",
       "    }\n",
       "\n",
       "    .dataframe tbody tr th {\n",
       "        vertical-align: top;\n",
       "    }\n",
       "\n",
       "    .dataframe thead th {\n",
       "        text-align: right;\n",
       "    }\n",
       "</style>\n",
       "<table border=\"1\" class=\"dataframe\">\n",
       "  <thead>\n",
       "    <tr style=\"text-align: right;\">\n",
       "      <th></th>\n",
       "      <th>subreddit</th>\n",
       "      <th>title</th>\n",
       "      <th>post_char_length</th>\n",
       "      <th>post_word_count</th>\n",
       "      <th>sentiment_compound</th>\n",
       "      <th>sentiment_negative</th>\n",
       "      <th>sentiment_neutral</th>\n",
       "      <th>sentiment_positive</th>\n",
       "      <th>label</th>\n",
       "    </tr>\n",
       "  </thead>\n",
       "  <tbody>\n",
       "    <tr>\n",
       "      <th>0</th>\n",
       "      <td>wallstreetbets</td>\n",
       "      <td>You all should try to SPAC Jeremy Fragrance's ...</td>\n",
       "      <td>53</td>\n",
       "      <td>9</td>\n",
       "      <td>0.0</td>\n",
       "      <td>0.0</td>\n",
       "      <td>1.0</td>\n",
       "      <td>0.0</td>\n",
       "      <td>1</td>\n",
       "    </tr>\n",
       "  </tbody>\n",
       "</table>\n",
       "</div>"
      ],
      "text/plain": [
       "        subreddit                                              title  \\\n",
       "0  wallstreetbets  You all should try to SPAC Jeremy Fragrance's ...   \n",
       "\n",
       "   post_char_length  post_word_count  sentiment_compound  sentiment_negative  \\\n",
       "0                53                9                 0.0                 0.0   \n",
       "\n",
       "   sentiment_neutral  sentiment_positive  label  \n",
       "0                1.0                 0.0      1  "
      ]
     },
     "execution_count": 3,
     "metadata": {},
     "output_type": "execute_result"
    }
   ],
   "source": [
    "# Convert label\n",
    "convert_label = {'wallstreetbets': 1, 'SatoshiStreetBets': 0}\n",
    "\n",
    "# Create a new column with the labeled titles\n",
    "df['label'] = df['subreddit'].map(convert_label)\n",
    "\n",
    "# Check code execution\n",
    "df.head(1)"
   ]
  },
  {
   "cell_type": "code",
   "execution_count": 4,
   "metadata": {},
   "outputs": [
    {
     "data": {
      "text/plain": [
       "0"
      ]
     },
     "execution_count": 4,
     "metadata": {},
     "output_type": "execute_result"
    }
   ],
   "source": [
    "# Check missing values\n",
    "df.isnull().sum().sum()"
   ]
  },
  {
   "cell_type": "code",
   "execution_count": 5,
   "metadata": {},
   "outputs": [],
   "source": [
    "# All stop words (English stop words + most common words shared between WSB and SSB)\n",
    "shared_words = ['10', '2021', 'amp', 'big', 'bought', 'buy', 'buying', 'day', 'did', 'dip', 'don', 'going', 'good', 'got', 'guys', 'help', 'hold', 'holding', 'just', 'know', 'let', 'like', 'long', 'make', 'market', 'monday', 'money', 'moon', 'new', 'news', 'people', 'price', 'right', 'short', 'think', 'time', 'today', 'trading', 've', 'way', 'yolo']\n",
    "my_stopwords = list(TfidfVectorizer(stop_words='english').get_stop_words()) + shared_words"
   ]
  },
  {
   "cell_type": "markdown",
   "metadata": {},
   "source": [
    "### Modeling"
   ]
  },
  {
   "cell_type": "markdown",
   "metadata": {},
   "source": [
    "#### The Null Model"
   ]
  },
  {
   "cell_type": "code",
   "execution_count": 6,
   "metadata": {},
   "outputs": [],
   "source": [
    "# Define X and y\n",
    "X = df['title']\n",
    "y = df['label']"
   ]
  },
  {
   "cell_type": "code",
   "execution_count": 7,
   "metadata": {},
   "outputs": [
    {
     "data": {
      "text/plain": [
       "0    0.502748\n",
       "1    0.497252\n",
       "Name: label, dtype: float64"
      ]
     },
     "execution_count": 7,
     "metadata": {},
     "output_type": "execute_result"
    }
   ],
   "source": [
    "# Find the majority class\n",
    "y.value_counts(normalize=True)"
   ]
  },
  {
   "cell_type": "markdown",
   "metadata": {},
   "source": [
    "**Interpretation:** 50.27% of the posts are from r/SatoshiStreetBets, and 49.72% of the posts are from r/wallstreetbets. The baseline accuracy for the null model is 50.27% because r/SatoshiStreetBets is the majority class. My goal will be to construct a classification model that can predict the correct subreddit from which a post comes with an accuracy above 50.27%."
   ]
  },
  {
   "cell_type": "markdown",
   "metadata": {},
   "source": [
    "#### Model 1: Logistic Regression"
   ]
  },
  {
   "cell_type": "code",
   "execution_count": 8,
   "metadata": {},
   "outputs": [
    {
     "data": {
      "text/plain": [
       "(0.9532286212914485, 0.8085774058577406)"
      ]
     },
     "execution_count": 8,
     "metadata": {},
     "output_type": "execute_result"
    }
   ],
   "source": [
    "# Define X and y\n",
    "X = df['title']\n",
    "y = df['label']\n",
    "\n",
    "# Train test split\n",
    "X_train, X_test, y_train, y_test = train_test_split(X, y, random_state=42)\n",
    "\n",
    "# Set up transformer and estimator via pipeline\n",
    "pipe_lr = Pipeline([\n",
    "    ('tvec', TfidfVectorizer()),\n",
    "    ('logreg', LogisticRegression())\n",
    "])\n",
    "\n",
    "# Set up parameters for pipeline\n",
    "lr_params = {\n",
    "    'tvec__stop_words': [None, 'english', my_stopwords],\n",
    "    'tvec__min_df': [1, 2],\n",
    "    'logreg__C': [1.0, 1.1, 0.9]\n",
    "    \n",
    "}\n",
    "\n",
    "# Instantiate GridSearchCV\n",
    "gs_lr = GridSearchCV(estimator=pipe_lr,\n",
    "                      param_grid=lr_params,\n",
    "                      cv=5,\n",
    "                      verbose=0)\n",
    "\n",
    "# Fit GridSearchCV\n",
    "gs_lr.fit(X_train, y_train)\n",
    "\n",
    "# Accuracy score\n",
    "gs_lr.score(X_train, y_train), gs_lr.score(X_test, y_test)"
   ]
  },
  {
   "cell_type": "code",
   "execution_count": 9,
   "metadata": {},
   "outputs": [
    {
     "data": {
      "image/png": "[encoded data removed]",
      "text/plain": [
       "<Figure size 432x288 with 2 Axes>"
      ]
     },
     "metadata": {
      "needs_background": "light"
     },
     "output_type": "display_data"
    }
   ],
   "source": [
    "# Predicted y test values\n",
    "lr_preds = gs_lr.predict(X_test)\n",
    "\n",
    "# Plot a confusion matrix\n",
    "plot_confusion_matrix(gs_lr, X_test, y_test, \n",
    "                      values_format='d', display_labels=['ssb','wsb']);"
   ]
  },
  {
   "cell_type": "code",
   "execution_count": 10,
   "metadata": {},
   "outputs": [],
   "source": [
    "# # Best parameters (uncomment to run)\n",
    "# gs_lr.best_params_"
   ]
  },
  {
   "cell_type": "markdown",
   "metadata": {},
   "source": [
    "**Interpretation:** Model 1 is a logistic regression model that utilizes the TF-IDF vectorizer and a pipeline to predict the correct subreddit of a post. The count vectorizer was also considered for pre-processing the text data into a structured, numeric X dataframe, but the TF-IDF vectorizer actually resulted in a slightly higher test score with less overfitting. I added the 41 most common terms shared between r/wallstreetbets and r/SatoshiStreetBets as stop words to improve the accuracy of the model. Given an accuracy score of 80.85% on unseen data, this model surpasses the baseline and ideal accuracies outlined in the problem statement. A shortcoming of this model is that it is overfit as evidenced by the difference in training and testing accuracy scores. Overall, this is a fairly robust model for predicting the correct subreddit of a post."
   ]
  },
  {
   "cell_type": "markdown",
   "metadata": {},
   "source": [
    "#### Additional Analysis for Model 1"
   ]
  },
  {
   "cell_type": "code",
   "execution_count": 11,
   "metadata": {},
   "outputs": [
    {
     "data": {
      "text/plain": [
       "array([1])"
      ]
     },
     "execution_count": 11,
     "metadata": {},
     "output_type": "execute_result"
    }
   ],
   "source": [
    "# Predicting risk tolerance (i.e. crypto or stock) based on unique words\n",
    "# Example 1\n",
    "gs_lr.predict(['gme mooned again today! I want to buy more shares but robinhood just froze'])"
   ]
  },
  {
   "cell_type": "code",
   "execution_count": 12,
   "metadata": {},
   "outputs": [
    {
     "data": {
      "text/plain": [
       "array([0])"
      ]
     },
     "execution_count": 12,
     "metadata": {},
     "output_type": "execute_result"
    }
   ],
   "source": [
    "# Example 2\n",
    "gs_lr.predict(['bitcoin keeps mooning! do you think elon will pump dogecoin or should I keep buying ada?'])"
   ]
  },
  {
   "cell_type": "code",
   "execution_count": 13,
   "metadata": {},
   "outputs": [
    {
     "data": {
      "text/plain": [
       "array([1])"
      ]
     },
     "execution_count": 13,
     "metadata": {},
     "output_type": "execute_result"
    }
   ],
   "source": [
    "# Example 3\n",
    "gs_lr.predict(['do your own dd but I am waiting for the next short squeeze'])"
   ]
  },
  {
   "cell_type": "code",
   "execution_count": 14,
   "metadata": {},
   "outputs": [
    {
     "name": "stdout",
     "output_type": "stream",
     "text": [
      "              precision    recall  f1-score   support\n",
      "\n",
      "           0       0.82      0.77      0.79       460\n",
      "           1       0.80      0.85      0.82       496\n",
      "\n",
      "    accuracy                           0.81       956\n",
      "   macro avg       0.81      0.81      0.81       956\n",
      "weighted avg       0.81      0.81      0.81       956\n",
      "\n"
     ]
    }
   ],
   "source": [
    "# Classification report showing precision, recall, and f1-score\n",
    "print(classification_report(y_test, lr_preds))"
   ]
  },
  {
   "cell_type": "code",
   "execution_count": 15,
   "metadata": {},
   "outputs": [
    {
     "data": {
      "text/html": [
       "<div>\n",
       "<style scoped>\n",
       "    .dataframe tbody tr th:only-of-type {\n",
       "        vertical-align: middle;\n",
       "    }\n",
       "\n",
       "    .dataframe tbody tr th {\n",
       "        vertical-align: top;\n",
       "    }\n",
       "\n",
       "    .dataframe thead th {\n",
       "        text-align: right;\n",
       "    }\n",
       "</style>\n",
       "<table border=\"1\" class=\"dataframe\">\n",
       "  <thead>\n",
       "    <tr style=\"text-align: right;\">\n",
       "      <th></th>\n",
       "      <th>title</th>\n",
       "      <th>actual_subreddit</th>\n",
       "      <th>predicted_subreddit</th>\n",
       "    </tr>\n",
       "  </thead>\n",
       "  <tbody>\n",
       "    <tr>\n",
       "      <th>2755</th>\n",
       "      <td>Is DENT actually a scam(honestly)?</td>\n",
       "      <td>0</td>\n",
       "      <td>0</td>\n",
       "    </tr>\n",
       "    <tr>\n",
       "      <th>1425</th>\n",
       "      <td>Advice on Investments</td>\n",
       "      <td>1</td>\n",
       "      <td>0</td>\n",
       "    </tr>\n",
       "    <tr>\n",
       "      <th>2186</th>\n",
       "      <td>NOOB TIPS</td>\n",
       "      <td>0</td>\n",
       "      <td>1</td>\n",
       "    </tr>\n",
       "  </tbody>\n",
       "</table>\n",
       "</div>"
      ],
      "text/plain": [
       "                                   title  actual_subreddit  \\\n",
       "2755  Is DENT actually a scam(honestly)?                 0   \n",
       "1425               Advice on Investments                 1   \n",
       "2186                           NOOB TIPS                 0   \n",
       "\n",
       "      predicted_subreddit  \n",
       "2755                    0  \n",
       "1425                    0  \n",
       "2186                    1  "
      ]
     },
     "execution_count": 15,
     "metadata": {},
     "output_type": "execute_result"
    }
   ],
   "source": [
    "# Create a new dataframe to check all incorrect predictions\n",
    "model_df = pd.DataFrame({'title': X_test, 'actual_subreddit': y_test,\n",
    "                        'predicted_subreddit': gs_lr.predict(X_test)})\n",
    "model_df.head(3)"
   ]
  },
  {
   "cell_type": "code",
   "execution_count": 16,
   "metadata": {},
   "outputs": [
    {
     "data": {
      "text/html": [
       "<div>\n",
       "<style scoped>\n",
       "    .dataframe tbody tr th:only-of-type {\n",
       "        vertical-align: middle;\n",
       "    }\n",
       "\n",
       "    .dataframe tbody tr th {\n",
       "        vertical-align: top;\n",
       "    }\n",
       "\n",
       "    .dataframe thead th {\n",
       "        text-align: right;\n",
       "    }\n",
       "</style>\n",
       "<table border=\"1\" class=\"dataframe\">\n",
       "  <thead>\n",
       "    <tr style=\"text-align: right;\">\n",
       "      <th></th>\n",
       "      <th>title</th>\n",
       "      <th>actual_subreddit</th>\n",
       "      <th>predicted_subreddit</th>\n",
       "    </tr>\n",
       "  </thead>\n",
       "  <tbody>\n",
       "    <tr>\n",
       "      <th>1425</th>\n",
       "      <td>Advice on Investments</td>\n",
       "      <td>1</td>\n",
       "      <td>0</td>\n",
       "    </tr>\n",
       "    <tr>\n",
       "      <th>2186</th>\n",
       "      <td>NOOB TIPS</td>\n",
       "      <td>0</td>\n",
       "      <td>1</td>\n",
       "    </tr>\n",
       "    <tr>\n",
       "      <th>3349</th>\n",
       "      <td>Hello, what’s your take this coming (Friday) e...</td>\n",
       "      <td>0</td>\n",
       "      <td>1</td>\n",
       "    </tr>\n",
       "  </tbody>\n",
       "</table>\n",
       "</div>"
      ],
      "text/plain": [
       "                                                  title  actual_subreddit  \\\n",
       "1425                              Advice on Investments                 1   \n",
       "2186                                          NOOB TIPS                 0   \n",
       "3349  Hello, what’s your take this coming (Friday) e...                 0   \n",
       "\n",
       "      predicted_subreddit  \n",
       "1425                    0  \n",
       "2186                    1  \n",
       "3349                    1  "
      ]
     },
     "execution_count": 16,
     "metadata": {},
     "output_type": "execute_result"
    }
   ],
   "source": [
    "# Drop rows with correct predictions\n",
    "for i in model_df.index:\n",
    "    if model_df['actual_subreddit'][i] == model_df['predicted_subreddit'][i]:\n",
    "        subset = model_df.loc[model_df.index == i]\n",
    "        model_df.drop(index = subset.index, inplace=True)\n",
    "model_df.head(3)"
   ]
  },
  {
   "cell_type": "code",
   "execution_count": 17,
   "metadata": {},
   "outputs": [
    {
     "data": {
      "image/png": "[encoded data removed]",
      "text/plain": [
       "<Figure size 432x288 with 1 Axes>"
      ]
     },
     "metadata": {
      "needs_background": "light"
     },
     "output_type": "display_data"
    }
   ],
   "source": [
    "# Define X\n",
    "X = model_df['title']\n",
    "\n",
    "# Instantiate a CV object\n",
    "cv = CountVectorizer(stop_words='english')\n",
    "\n",
    "# Fit and transform the CV\n",
    "cv.fit(X)\n",
    "X_cv = cv.transform(X)\n",
    "\n",
    "# Convert to a dataframe\n",
    "cv_df = pd.DataFrame(X_cv.todense(), columns=cv.get_feature_names())\n",
    "\n",
    "# Plot the top 10 words that are misclassified\n",
    "cv_df.sum().sort_values(ascending=False).head(10).plot(kind='barh')\n",
    "plt.title('Top 10 Misclassified Words')\n",
    "plt.xlabel('Counts')\n",
    "plt.ylabel('Words');"
   ]
  },
  {
   "cell_type": "markdown",
   "metadata": {},
   "source": [
    "**Interpretation:** The model most frequently misclassifies posts where the 10 words shown above appear."
   ]
  },
  {
   "cell_type": "code",
   "execution_count": 18,
   "metadata": {},
   "outputs": [
    {
     "data": {
      "text/html": [
       "<div>\n",
       "<style scoped>\n",
       "    .dataframe tbody tr th:only-of-type {\n",
       "        vertical-align: middle;\n",
       "    }\n",
       "\n",
       "    .dataframe tbody tr th {\n",
       "        vertical-align: top;\n",
       "    }\n",
       "\n",
       "    .dataframe thead th {\n",
       "        text-align: right;\n",
       "    }\n",
       "</style>\n",
       "<table border=\"1\" class=\"dataframe\">\n",
       "  <thead>\n",
       "    <tr style=\"text-align: right;\">\n",
       "      <th></th>\n",
       "      <th>feature_name</th>\n",
       "      <th>tfidf_weight</th>\n",
       "    </tr>\n",
       "  </thead>\n",
       "  <tbody>\n",
       "    <tr>\n",
       "      <th>2184</th>\n",
       "      <td>kanye</td>\n",
       "      <td>8.267525</td>\n",
       "    </tr>\n",
       "    <tr>\n",
       "      <th>2566</th>\n",
       "      <td>monthly</td>\n",
       "      <td>8.267525</td>\n",
       "    </tr>\n",
       "    <tr>\n",
       "      <th>2545</th>\n",
       "      <td>moass</td>\n",
       "      <td>8.267525</td>\n",
       "    </tr>\n",
       "    <tr>\n",
       "      <th>2546</th>\n",
       "      <td>mobile</td>\n",
       "      <td>8.267525</td>\n",
       "    </tr>\n",
       "    <tr>\n",
       "      <th>2549</th>\n",
       "      <td>moderation</td>\n",
       "      <td>8.267525</td>\n",
       "    </tr>\n",
       "    <tr>\n",
       "      <th>2550</th>\n",
       "      <td>moderators</td>\n",
       "      <td>8.267525</td>\n",
       "    </tr>\n",
       "    <tr>\n",
       "      <th>2551</th>\n",
       "      <td>modern</td>\n",
       "      <td>8.267525</td>\n",
       "    </tr>\n",
       "    <tr>\n",
       "      <th>2553</th>\n",
       "      <td>mom</td>\n",
       "      <td>8.267525</td>\n",
       "    </tr>\n",
       "    <tr>\n",
       "      <th>2556</th>\n",
       "      <td>mommy</td>\n",
       "      <td>8.267525</td>\n",
       "    </tr>\n",
       "    <tr>\n",
       "      <th>2557</th>\n",
       "      <td>mondayyyyy</td>\n",
       "      <td>8.267525</td>\n",
       "    </tr>\n",
       "  </tbody>\n",
       "</table>\n",
       "</div>"
      ],
      "text/plain": [
       "     feature_name  tfidf_weight\n",
       "2184        kanye      8.267525\n",
       "2566      monthly      8.267525\n",
       "2545        moass      8.267525\n",
       "2546       mobile      8.267525\n",
       "2549   moderation      8.267525\n",
       "2550   moderators      8.267525\n",
       "2551       modern      8.267525\n",
       "2553          mom      8.267525\n",
       "2556        mommy      8.267525\n",
       "2557   mondayyyyy      8.267525"
      ]
     },
     "execution_count": 18,
     "metadata": {},
     "output_type": "execute_result"
    }
   ],
   "source": [
    "# Instantiate and fit the transformer\n",
    "tvec = TfidfVectorizer(stop_words=my_stopwords, min_df=1)\n",
    "X_train_tvec = tvec.fit_transform(X_train)\n",
    "X_test_tvec = tvec.transform(X_test)\n",
    "\n",
    "# Instantiate and fit logistic regression\n",
    "logreg = LogisticRegression(C=1.1)\n",
    "logreg.fit(X_train_tvec, y_train)\n",
    "\n",
    "# Create a dataframe showing the feature name and tf-idf weight of the word\n",
    "my_dict = dict(zip(tvec.get_feature_names(), tvec.idf_))\n",
    "features_df = pd.DataFrame(data=my_dict.items(), columns=['feature_name','tfidf_weight'])\n",
    "\n",
    "# View the 10 highest weighted feature names\n",
    "features_df.sort_values(by=['tfidf_weight'], ascending=False).head(10)"
   ]
  },
  {
   "cell_type": "markdown",
   "metadata": {},
   "source": [
    "**Interpretation:** The TF-IDF vectorizer assigns the highest weight as 8.267525. Thus, the words with a weight of approximately 8.267525 can be considered to be the most predictive for this model."
   ]
  },
  {
   "cell_type": "code",
   "execution_count": 19,
   "metadata": {},
   "outputs": [
    {
     "data": {
      "text/plain": [
       "0.8992066970546984"
      ]
     },
     "execution_count": 19,
     "metadata": {},
     "output_type": "execute_result"
    }
   ],
   "source": [
    "# ROC AUC Score\n",
    "roc_auc_score(y_test, gs_lr.predict_proba(X_test)[:, 1])"
   ]
  },
  {
   "cell_type": "code",
   "execution_count": 20,
   "metadata": {},
   "outputs": [
    {
     "data": {
      "image/png": "[encoded data removed]",
      "text/plain": [
       "<Figure size 432x288 with 1 Axes>"
      ]
     },
     "metadata": {
      "needs_background": "light"
     },
     "output_type": "display_data"
    }
   ],
   "source": [
    "# Receiver Operating Characteristic (ROC) Curve\n",
    "plot_roc_curve(gs_lr, X_test, y_test)\n",
    "plt.plot([0, 1], [0, 1],\n",
    "        label='baseline', linestyle='--')\n",
    "plt.legend();"
   ]
  },
  {
   "cell_type": "markdown",
   "metadata": {},
   "source": [
    "**Interpretation:** The ROC curve, which plots the true positive rate against the false positive rate, illustrates how much overlap exists between the distributions. The distributions are better separated the more area there is under the blue curve. An ROC AUC of 0.90 indicates that the positive and negative populations are nicely separated since an ROC AUC of 1 is the maximum possible score."
   ]
  },
  {
   "cell_type": "markdown",
   "metadata": {},
   "source": [
    "#### Model 2: Decision Tree Classifier"
   ]
  },
  {
   "cell_type": "code",
   "execution_count": 21,
   "metadata": {},
   "outputs": [
    {
     "data": {
      "text/plain": [
       "(0.9504363001745201, 0.7667364016736402)"
      ]
     },
     "execution_count": 21,
     "metadata": {},
     "output_type": "execute_result"
    }
   ],
   "source": [
    "# Define X and y\n",
    "X = df['title']\n",
    "y = df['label']\n",
    "\n",
    "# Train test split\n",
    "X_train, X_test, y_train, y_test = train_test_split(X, y, random_state=42)\n",
    "\n",
    "# Set up pipeline\n",
    "pipe_dtc = Pipeline([\n",
    "    ('cvec', CountVectorizer()),\n",
    "    ('dct', DecisionTreeClassifier())\n",
    "])\n",
    "\n",
    "# Set up parameters for pipeline\n",
    "dtc_params = {\n",
    "    'cvec__stop_words': [None, 'english', my_stopwords],\n",
    "    'cvec__max_features': [None, 500, 1000, 1500],\n",
    "    'cvec__min_df': [1, 2],\n",
    "    'dct__max_depth': [None, 5, 10]\n",
    "}\n",
    "\n",
    "# Instantiate GridSearchCV\n",
    "gs_dtc = GridSearchCV(estimator=pipe_dtc,\n",
    "                      param_grid=dtc_params,\n",
    "                      cv=5,\n",
    "                      verbose=0)\n",
    "\n",
    "# Fit GridSearchCV\n",
    "gs_dtc.fit(X_train, y_train)\n",
    "\n",
    "# Accuracy score\n",
    "gs_dtc.score(X_train, y_train), gs_dtc.score(X_test, y_test)"
   ]
  },
  {
   "cell_type": "code",
   "execution_count": 22,
   "metadata": {},
   "outputs": [
    {
     "data": {
      "image/png": "[encoded data removed]",
      "text/plain": [
       "<Figure size 432x288 with 2 Axes>"
      ]
     },
     "metadata": {
      "needs_background": "light"
     },
     "output_type": "display_data"
    }
   ],
   "source": [
    "# Predicted y test values\n",
    "dtc_preds = gs_dtc.predict(X_test)\n",
    "\n",
    "# Plot a confusion matrix\n",
    "plot_confusion_matrix(gs_dtc, X_test, y_test,\n",
    "                      values_format='d', display_labels=['ssb','wsb']);"
   ]
  },
  {
   "cell_type": "markdown",
   "metadata": {},
   "source": [
    "**Interpretation:** Model 2 is a decision tree classifier that utilizes the count vectorizer to process natural language data. The test accuracy score is 76.46%, and the model appears to be overfit. While the model outperforms the null model, the test accuracy on unseen data does not meet the expectations set in the problem statement."
   ]
  },
  {
   "cell_type": "markdown",
   "metadata": {},
   "source": [
    "#### Model 3: Bagging Classifier"
   ]
  },
  {
   "cell_type": "code",
   "execution_count": 23,
   "metadata": {},
   "outputs": [
    {
     "data": {
      "text/plain": [
       "(0.9472949389179756, 0.7866108786610879)"
      ]
     },
     "execution_count": 23,
     "metadata": {},
     "output_type": "execute_result"
    }
   ],
   "source": [
    "# Define X and y\n",
    "X = df['title']\n",
    "y = df['label']\n",
    "\n",
    "# Train test split\n",
    "X_train, X_test, y_train, y_test = train_test_split(X, y, random_state=42)\n",
    "\n",
    "# Set up pipeline\n",
    "pipe_bag = Pipeline([\n",
    "    ('cvec', CountVectorizer()),\n",
    "    ('bag', BaggingClassifier())\n",
    "])\n",
    "\n",
    "# Set up parameters for pipeline\n",
    "bag_params = {\n",
    "    'cvec__stop_words': [None, 'english', my_stopwords],\n",
    "    'cvec__min_df': [2],\n",
    "    'bag__n_estimators': [10, 15]\n",
    "}\n",
    "\n",
    "# Instantiate GridSearchCV\n",
    "gs_bag = GridSearchCV(estimator=pipe_bag,\n",
    "                      param_grid=bag_params,\n",
    "                      cv=5,\n",
    "                      verbose=0)\n",
    "\n",
    "# Fit GridSearchCV\n",
    "gs_bag.fit(X_train, y_train)\n",
    "\n",
    "# Accuracy score\n",
    "gs_bag.score(X_train, y_train), gs_bag.score(X_test, y_test)"
   ]
  },
  {
   "cell_type": "code",
   "execution_count": 24,
   "metadata": {},
   "outputs": [
    {
     "data": {
      "image/png": "[encoded data removed]",
      "text/plain": [
       "<Figure size 432x288 with 2 Axes>"
      ]
     },
     "metadata": {
      "needs_background": "light"
     },
     "output_type": "display_data"
    }
   ],
   "source": [
    "# Predicted y test values\n",
    "bag_preds = gs_bag.predict(X_test)\n",
    "\n",
    "# Plot a confusion matrix\n",
    "plot_confusion_matrix(gs_bag, X_test, y_test,\n",
    "                      values_format='d', display_labels=['ssb','wsb']);"
   ]
  },
  {
   "cell_type": "markdown",
   "metadata": {},
   "source": [
    "**Interpretation:** Model 3 is a bagging classifier that uses the count vectorizer to process text data. With an accuracy score of 78.34% on unseen data, the model performs below the 80% accuracy threshold set in the problem statement. This is a decent model with a tendency to overfit its predictions. "
   ]
  },
  {
   "cell_type": "markdown",
   "metadata": {},
   "source": [
    "#### Model 4: Multinomial Naive Bayes"
   ]
  },
  {
   "cell_type": "code",
   "execution_count": 25,
   "metadata": {},
   "outputs": [
    {
     "data": {
      "text/plain": [
       "(0.944153577661431, 0.8106694560669456)"
      ]
     },
     "execution_count": 25,
     "metadata": {},
     "output_type": "execute_result"
    }
   ],
   "source": [
    "# Define X and y\n",
    "X = df['title']\n",
    "y = df['label']\n",
    "\n",
    "# Train test split\n",
    "X_train, X_test, y_train, y_test = train_test_split(X, y, random_state=42)\n",
    "\n",
    "# Set up pipeline\n",
    "pipe_mnb = Pipeline([\n",
    "    ('tvec', TfidfVectorizer()),\n",
    "    ('mnb', MultinomialNB())\n",
    "])\n",
    "\n",
    "# Set up parameters for pipeline\n",
    "mnb_params = {\n",
    "    'tvec__stop_words': [None, 'english', my_stopwords],\n",
    "    'tvec__max_features': [None, 1000, 1500],\n",
    "    'tvec__ngram_range': [(1,1),(1,2)],\n",
    "    'mnb__alpha': [1.0, 0.5]\n",
    "}\n",
    "\n",
    "# Instantiate GridSearchCV\n",
    "gs_mnb = GridSearchCV(pipe_mnb,\n",
    "                      param_grid=mnb_params,\n",
    "                      cv=5,\n",
    "                     verbose=0)\n",
    "\n",
    "# Fit GridSearchCV\n",
    "gs_mnb.fit(X_train, y_train)\n",
    "\n",
    "# Accuracy score\n",
    "gs_mnb.score(X_train, y_train), gs_mnb.score(X_test, y_test)"
   ]
  },
  {
   "cell_type": "code",
   "execution_count": 26,
   "metadata": {},
   "outputs": [
    {
     "data": {
      "image/png": "[encoded data removed]",
      "text/plain": [
       "<Figure size 432x288 with 2 Axes>"
      ]
     },
     "metadata": {
      "needs_background": "light"
     },
     "output_type": "display_data"
    }
   ],
   "source": [
    "# Predicted y test values\n",
    "mnb_preds = gs_mnb.predict(X_test)\n",
    "\n",
    "# Plot a confusion matrix\n",
    "plot_confusion_matrix(gs_mnb, X_test, y_test, \n",
    "                      values_format='d', display_labels=['ssb','wsb']);"
   ]
  },
  {
   "cell_type": "markdown",
   "metadata": {},
   "source": [
    "**Interpretation:** Model 4 is a multinomial naive bayes model that utilizes the TF-IDF vectorizer to process text data and a gridsearch to test the optimal combination of parameters to predict the correct subreddit of a post. The model is a bit overfit but surpasses the expectation set in the problem statement with a test accuracy of 81.06%."
   ]
  },
  {
   "cell_type": "markdown",
   "metadata": {},
   "source": [
    "#### Model 5: AdaBoost Classifier"
   ]
  },
  {
   "cell_type": "code",
   "execution_count": 27,
   "metadata": {},
   "outputs": [
    {
     "data": {
      "text/plain": [
       "(0.7972076788830715, 0.7322175732217573)"
      ]
     },
     "execution_count": 27,
     "metadata": {},
     "output_type": "execute_result"
    }
   ],
   "source": [
    "# Define X and y\n",
    "X = df['title']\n",
    "y = df['label']\n",
    "\n",
    "# Train test split\n",
    "X_train, X_test, y_train, y_test = train_test_split(X, y, random_state=42)\n",
    "\n",
    "# Set up transformer and estimator via pipeline\n",
    "pipe_abc = Pipeline([\n",
    "    ('tvec', TfidfVectorizer()),\n",
    "    ('abc', AdaBoostClassifier())\n",
    "     ])\n",
    "\n",
    "# Set up parameters for pipeline\n",
    "abc_params = {\n",
    "    'tvec__stop_words': [None, 'english', my_stopwords],\n",
    "    'tvec__min_df': [2],\n",
    "    'abc__n_estimators': [50, 100]\n",
    "}\n",
    "\n",
    "# Instantiate GridSearchCV    \n",
    "gs_abc = GridSearchCV(pipe_abc,\n",
    "                      param_grid=abc_params,\n",
    "                      cv=5,\n",
    "                     verbose=0)\n",
    "\n",
    "# Fit GridSearchCV\n",
    "gs_abc.fit(X_train,y_train)\n",
    "\n",
    "# Accuracy score\n",
    "gs_abc.score(X_train,y_train), gs_abc.score(X_test,y_test)"
   ]
  },
  {
   "cell_type": "code",
   "execution_count": 28,
   "metadata": {},
   "outputs": [
    {
     "data": {
      "image/png": "[encoded data removed]",
      "text/plain": [
       "<Figure size 432x288 with 2 Axes>"
      ]
     },
     "metadata": {
      "needs_background": "light"
     },
     "output_type": "display_data"
    }
   ],
   "source": [
    "# Predicted y test values\n",
    "abc_preds = gs_abc.predict(X_test)\n",
    "\n",
    "# Plot a confusion matrix\n",
    "plot_confusion_matrix(gs_abc, X_test, y_test,\n",
    "                      values_format='d', display_labels=['ssb','wsb']);"
   ]
  },
  {
   "cell_type": "markdown",
   "metadata": {},
   "source": [
    "**Interpretation:** Model 5 is an AdaBoost classifier that uses the TF-IDF vectorizer and a gridsearch to find the optimal parameters to predict the correct subreddit of a post. An accuracy score of 73.22% on unseen data does not meet the 80% threshold set in the problem statement."
   ]
  },
  {
   "cell_type": "markdown",
   "metadata": {},
   "source": [
    "#### Model 6: Random Forest Classifier"
   ]
  },
  {
   "cell_type": "code",
   "execution_count": 29,
   "metadata": {},
   "outputs": [
    {
     "data": {
      "text/plain": [
       "(0.9542757417102967, 0.8002092050209205)"
      ]
     },
     "execution_count": 29,
     "metadata": {},
     "output_type": "execute_result"
    }
   ],
   "source": [
    "# Define X and y\n",
    "X = df['title']\n",
    "y = df['label']\n",
    "\n",
    "# Train test split\n",
    "X_train, X_test, y_train, y_test = train_test_split(X, y, random_state=42)\n",
    "\n",
    "# Set up pipeline\n",
    "pipe_rfc = Pipeline([\n",
    "    ('tvec', TfidfVectorizer()),\n",
    "    ('rfc', RandomForestClassifier())\n",
    "])\n",
    "\n",
    "# Set up parameters for pipeline\n",
    "rfc_params = {\n",
    "    'tvec__stop_words': [None, 'english', my_stopwords],\n",
    "    'tvec__min_df': [2],\n",
    "    'rfc__n_estimators': [100, 150, 200],\n",
    "    'rfc__max_depth': [None, 5]\n",
    "}\n",
    "\n",
    "# Instantiate GridSearchCV\n",
    "gs_rfc = GridSearchCV(estimator=pipe_rfc,\n",
    "                      param_grid=rfc_params,\n",
    "                      cv=5,\n",
    "                      verbose=0)\n",
    "\n",
    "# Fit GridSearchCV\n",
    "gs_rfc.fit(X_train, y_train)\n",
    "\n",
    "# Accuracy score for random forest\n",
    "gs_rfc.score(X_train, y_train), gs_rfc.score(X_test, y_test)"
   ]
  },
  {
   "cell_type": "code",
   "execution_count": 30,
   "metadata": {},
   "outputs": [
    {
     "data": {
      "image/png": "[encoded data removed]",
      "text/plain": [
       "<Figure size 432x288 with 2 Axes>"
      ]
     },
     "metadata": {
      "needs_background": "light"
     },
     "output_type": "display_data"
    }
   ],
   "source": [
    "# Predicted y test values\n",
    "rfc_preds = gs_rfc.predict(X_test)\n",
    "\n",
    "# Plot a confusion matrix\n",
    "plot_confusion_matrix(gs_rfc, X_test, y_test, \n",
    "                      values_format='d', display_labels=['ssb','wsb']);"
   ]
  },
  {
   "cell_type": "markdown",
   "metadata": {},
   "source": [
    "**Interpretation:** Model 6 is a classification model that utilizes the tf-idf vectorizer to pre-process text data, a pipeline to enable gridsearch to iterate over various hyperparameters, and the random forest classifier to predict the correct subreddit. The model's accuracy score of 79.70% for the test data does not exceed the 80% target accuracy score. The random forest model is quite overfit."
   ]
  },
  {
   "cell_type": "markdown",
   "metadata": {},
   "source": [
    "#### Model 7: Support Vector Classifier"
   ]
  },
  {
   "cell_type": "code",
   "execution_count": 31,
   "metadata": {},
   "outputs": [
    {
     "data": {
      "text/plain": [
       "(0.956369982547993, 0.8106694560669456)"
      ]
     },
     "execution_count": 31,
     "metadata": {},
     "output_type": "execute_result"
    }
   ],
   "source": [
    "# Define X and y\n",
    "X = df['title']\n",
    "y = df['label']\n",
    "\n",
    "# Train test split\n",
    "X_train, X_test, y_train, y_test = train_test_split(X, y, random_state=42)\n",
    "\n",
    "# Set up transformer and estimator via pipeline\n",
    "pipe_svc = Pipeline([\n",
    "    ('tvec', TfidfVectorizer()),\n",
    "    ('svc', SVC())\n",
    "     ])\n",
    "\n",
    "# Set up parameters for pipeline\n",
    "svc_params = {\n",
    "    'tvec__stop_words': [None, 'english',my_stopwords],\n",
    "    'tvec__min_df': [2],\n",
    "    'svc__kernel': ['linear', 'rbf', 'poly', 'sigmoid']\n",
    "}\n",
    "\n",
    "# Instantiate GridSearchCV    \n",
    "gs_svc = GridSearchCV(pipe_svc,\n",
    "                      param_grid=svc_params,\n",
    "                      cv=5,\n",
    "                     verbose=0)\n",
    "\n",
    "# Fit GridSearchCV\n",
    "gs_svc.fit(X_train,y_train)\n",
    "\n",
    "# Accuracy score\n",
    "gs_svc.score(X_train,y_train), gs_svc.score(X_test,y_test)"
   ]
  },
  {
   "cell_type": "code",
   "execution_count": 32,
   "metadata": {},
   "outputs": [
    {
     "data": {
      "image/png": "[encoded data removed]",
      "text/plain": [
       "<Figure size 432x288 with 2 Axes>"
      ]
     },
     "metadata": {
      "needs_background": "light"
     },
     "output_type": "display_data"
    }
   ],
   "source": [
    "# Predicted y test values\n",
    "svc_preds = gs_svc.predict(X_test)\n",
    "\n",
    "# Plot a confusion matrix\n",
    "plot_confusion_matrix(gs_svc, X_test, y_test,\n",
    "                      values_format='d', display_labels=['ssb','wsb']);"
   ]
  },
  {
   "cell_type": "markdown",
   "metadata": {},
   "source": [
    "**Interpretation:** Model 7 is a classification model that utilizes the TF-IDF vectorizer to pre-process text data, a gridsearch to determine the optimal mix of hyperparameters, and the support vector classifier to predict the correct subreddit of a post. The model has high variance and a decent test accuracy score of 81.06%."
   ]
  },
  {
   "cell_type": "markdown",
   "metadata": {},
   "source": [
    "### Production Model\n",
    "The logistic regression model (i.e. Model 1) is my choice for the production model. While the multinomial naive bayes and the support vector classifier both have slightly higher accuracy scores of 81.06% on unseen data, the logistic regression model offers more interpretability than these two models and performs fairly well on unseen data (i.e. 80.85% test accuracy). I am confident that the model will perform well at predicting if a post came from r/wallstreetbets or r/SatoshiStreetBets."
   ]
  },
  {
   "cell_type": "code",
   "execution_count": 33,
   "metadata": {},
   "outputs": [],
   "source": [
    "# New imports\n",
    "import pickle"
   ]
  },
  {
   "cell_type": "code",
   "execution_count": 34,
   "metadata": {},
   "outputs": [],
   "source": [
    "# Pickle the production model\n",
    "with open('../datasets/production_model.pkl', 'wb') as pickle_out:\n",
    "    pickle_out = pickle.dump(gs_lr, pickle_out)"
   ]
  },
  {
   "cell_type": "code",
   "execution_count": 35,
   "metadata": {},
   "outputs": [],
   "source": [
    "# # Load the pickled model\n",
    "# with open('../datasets/production_model.pkl', 'rb') as pickle_in:\n",
    "#     model = pickle.load(pickle_in)"
   ]
  },
  {
   "cell_type": "markdown",
   "metadata": {},
   "source": [
    "### Executive Summary\n",
    "The goals of this project were two-fold: (1) the first was to process natural language scraped from Pushshift's web API in order to construct a classification model that could predict which of two subreddits a post came from with at least an 80% accuracy score and (2) the second was to determine an investment type (i.e. stock or crypto) that may be more suitable to the individual retail investor based on the keywords with which the individual identifies. Through the iterative process of model tuning, I was able to build a logistic regression model with the desirable accuracy and found the words with the most predictive power for classification. In addition, I performed sentiment analysis to understand the range of positive and negative emotions that are tied to the words used in each subreddit. Based on my findings, it appears that there are words unique to members of r/wallstreetbets and r/SatoshiStreetBets that may inform the individual to side with a particular investment type (i.e. stock or crypto)."
   ]
  }
 ],
 "metadata": {
  "kernelspec": {
   "display_name": "Python 3",
   "language": "python",
   "name": "python3"
  },
  "language_info": {
   "codemirror_mode": {
    "name": "ipython",
    "version": 3
   },
   "file_extension": ".py",
   "mimetype": "text/x-python",
   "name": "python",
   "nbconvert_exporter": "python",
   "pygments_lexer": "ipython3",
   "version": "3.8.5"
  }
 },
 "nbformat": 4,
 "nbformat_minor": 4
}
