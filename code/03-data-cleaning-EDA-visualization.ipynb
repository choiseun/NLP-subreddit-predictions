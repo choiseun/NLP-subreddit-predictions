{
 "cells": [
  {
   "cell_type": "markdown",
   "metadata": {},
   "source": [
    "# Data Cleaning, EDA & Data Visualization"
   ]
  },
  {
   "cell_type": "markdown",
   "metadata": {},
   "source": [
    "### Data Cleaning"
   ]
  },
  {
   "cell_type": "code",
   "execution_count": 1,
   "metadata": {},
   "outputs": [],
   "source": [
    "# Imports\n",
    "import numpy as np\n",
    "import pandas as pd\n",
    "import matplotlib.pyplot as plt\n",
    "import seaborn as sns\n",
    "from nltk.sentiment.vader import SentimentIntensityAnalyzer\n",
    "from sklearn.feature_extraction.text import CountVectorizer"
   ]
  },
  {
   "cell_type": "code",
   "execution_count": 2,
   "metadata": {},
   "outputs": [
    {
     "data": {
      "text/html": [
       "<div>\n",
       "<style scoped>\n",
       "    .dataframe tbody tr th:only-of-type {\n",
       "        vertical-align: middle;\n",
       "    }\n",
       "\n",
       "    .dataframe tbody tr th {\n",
       "        vertical-align: top;\n",
       "    }\n",
       "\n",
       "    .dataframe thead th {\n",
       "        text-align: right;\n",
       "    }\n",
       "</style>\n",
       "<table border=\"1\" class=\"dataframe\">\n",
       "  <thead>\n",
       "    <tr style=\"text-align: right;\">\n",
       "      <th></th>\n",
       "      <th>subreddit</th>\n",
       "      <th>title</th>\n",
       "    </tr>\n",
       "  </thead>\n",
       "  <tbody>\n",
       "    <tr>\n",
       "      <th>0</th>\n",
       "      <td>wallstreetbets</td>\n",
       "      <td>You all should try to SPAC Jeremy Fragrance's ...</td>\n",
       "    </tr>\n",
       "    <tr>\n",
       "      <th>1</th>\n",
       "      <td>wallstreetbets</td>\n",
       "      <td>Are you ready for marriage love test</td>\n",
       "    </tr>\n",
       "    <tr>\n",
       "      <th>2</th>\n",
       "      <td>wallstreetbets</td>\n",
       "      <td>Serious question: Is it too late to buy in now?</td>\n",
       "    </tr>\n",
       "    <tr>\n",
       "      <th>3</th>\n",
       "      <td>wallstreetbets</td>\n",
       "      <td>Need some advice...</td>\n",
       "    </tr>\n",
       "    <tr>\n",
       "      <th>4</th>\n",
       "      <td>wallstreetbets</td>\n",
       "      <td>tin foil hat time! Is Vlad really that stupid?</td>\n",
       "    </tr>\n",
       "  </tbody>\n",
       "</table>\n",
       "</div>"
      ],
      "text/plain": [
       "        subreddit                                              title\n",
       "0  wallstreetbets  You all should try to SPAC Jeremy Fragrance's ...\n",
       "1  wallstreetbets               Are you ready for marriage love test\n",
       "2  wallstreetbets    Serious question: Is it too late to buy in now?\n",
       "3  wallstreetbets                                Need some advice...\n",
       "4  wallstreetbets     tin foil hat time! Is Vlad really that stupid?"
      ]
     },
     "execution_count": 2,
     "metadata": {},
     "output_type": "execute_result"
    }
   ],
   "source": [
    "# Read data\n",
    "df = pd.read_csv('../datasets/posts.csv')\n",
    "df.head()"
   ]
  },
  {
   "cell_type": "code",
   "execution_count": 3,
   "metadata": {},
   "outputs": [
    {
     "data": {
      "text/plain": [
       "(3821, 2)"
      ]
     },
     "execution_count": 3,
     "metadata": {},
     "output_type": "execute_result"
    }
   ],
   "source": [
    "# Check shape\n",
    "df.shape"
   ]
  },
  {
   "cell_type": "code",
   "execution_count": 4,
   "metadata": {},
   "outputs": [
    {
     "data": {
      "text/plain": [
       "subreddit    0\n",
       "title        0\n",
       "dtype: int64"
      ]
     },
     "execution_count": 4,
     "metadata": {},
     "output_type": "execute_result"
    }
   ],
   "source": [
    "# Check missing values\n",
    "df.isnull().sum()"
   ]
  },
  {
   "cell_type": "code",
   "execution_count": 5,
   "metadata": {},
   "outputs": [
    {
     "data": {
      "text/plain": [
       "subreddit    object\n",
       "title        object\n",
       "dtype: object"
      ]
     },
     "execution_count": 5,
     "metadata": {},
     "output_type": "execute_result"
    }
   ],
   "source": [
    "# Check dtypes\n",
    "df.dtypes"
   ]
  },
  {
   "cell_type": "code",
   "execution_count": 6,
   "metadata": {},
   "outputs": [
    {
     "data": {
      "text/html": [
       "<div>\n",
       "<style scoped>\n",
       "    .dataframe tbody tr th:only-of-type {\n",
       "        vertical-align: middle;\n",
       "    }\n",
       "\n",
       "    .dataframe tbody tr th {\n",
       "        vertical-align: top;\n",
       "    }\n",
       "\n",
       "    .dataframe thead th {\n",
       "        text-align: right;\n",
       "    }\n",
       "</style>\n",
       "<table border=\"1\" class=\"dataframe\">\n",
       "  <thead>\n",
       "    <tr style=\"text-align: right;\">\n",
       "      <th></th>\n",
       "      <th>subreddit</th>\n",
       "      <th>title</th>\n",
       "      <th>post_char_length</th>\n",
       "    </tr>\n",
       "  </thead>\n",
       "  <tbody>\n",
       "    <tr>\n",
       "      <th>0</th>\n",
       "      <td>wallstreetbets</td>\n",
       "      <td>You all should try to SPAC Jeremy Fragrance's ...</td>\n",
       "      <td>53</td>\n",
       "    </tr>\n",
       "    <tr>\n",
       "      <th>1</th>\n",
       "      <td>wallstreetbets</td>\n",
       "      <td>Are you ready for marriage love test</td>\n",
       "      <td>36</td>\n",
       "    </tr>\n",
       "    <tr>\n",
       "      <th>2</th>\n",
       "      <td>wallstreetbets</td>\n",
       "      <td>Serious question: Is it too late to buy in now?</td>\n",
       "      <td>47</td>\n",
       "    </tr>\n",
       "  </tbody>\n",
       "</table>\n",
       "</div>"
      ],
      "text/plain": [
       "        subreddit                                              title  \\\n",
       "0  wallstreetbets  You all should try to SPAC Jeremy Fragrance's ...   \n",
       "1  wallstreetbets               Are you ready for marriage love test   \n",
       "2  wallstreetbets    Serious question: Is it too late to buy in now?   \n",
       "\n",
       "   post_char_length  \n",
       "0                53  \n",
       "1                36  \n",
       "2                47  "
      ]
     },
     "execution_count": 6,
     "metadata": {},
     "output_type": "execute_result"
    }
   ],
   "source": [
    "# Create a column for character length of post\n",
    "df['post_char_length'] = df['title'].apply(len)\n",
    "df.head(3)"
   ]
  },
  {
   "cell_type": "code",
   "execution_count": 7,
   "metadata": {},
   "outputs": [
    {
     "data": {
      "text/html": [
       "<div>\n",
       "<style scoped>\n",
       "    .dataframe tbody tr th:only-of-type {\n",
       "        vertical-align: middle;\n",
       "    }\n",
       "\n",
       "    .dataframe tbody tr th {\n",
       "        vertical-align: top;\n",
       "    }\n",
       "\n",
       "    .dataframe thead th {\n",
       "        text-align: right;\n",
       "    }\n",
       "</style>\n",
       "<table border=\"1\" class=\"dataframe\">\n",
       "  <thead>\n",
       "    <tr style=\"text-align: right;\">\n",
       "      <th></th>\n",
       "      <th>subreddit</th>\n",
       "      <th>title</th>\n",
       "      <th>post_char_length</th>\n",
       "      <th>post_word_count</th>\n",
       "    </tr>\n",
       "  </thead>\n",
       "  <tbody>\n",
       "    <tr>\n",
       "      <th>0</th>\n",
       "      <td>wallstreetbets</td>\n",
       "      <td>You all should try to SPAC Jeremy Fragrance's ...</td>\n",
       "      <td>53</td>\n",
       "      <td>9</td>\n",
       "    </tr>\n",
       "    <tr>\n",
       "      <th>1</th>\n",
       "      <td>wallstreetbets</td>\n",
       "      <td>Are you ready for marriage love test</td>\n",
       "      <td>36</td>\n",
       "      <td>7</td>\n",
       "    </tr>\n",
       "    <tr>\n",
       "      <th>2</th>\n",
       "      <td>wallstreetbets</td>\n",
       "      <td>Serious question: Is it too late to buy in now?</td>\n",
       "      <td>47</td>\n",
       "      <td>10</td>\n",
       "    </tr>\n",
       "  </tbody>\n",
       "</table>\n",
       "</div>"
      ],
      "text/plain": [
       "        subreddit                                              title  \\\n",
       "0  wallstreetbets  You all should try to SPAC Jeremy Fragrance's ...   \n",
       "1  wallstreetbets               Are you ready for marriage love test   \n",
       "2  wallstreetbets    Serious question: Is it too late to buy in now?   \n",
       "\n",
       "   post_char_length  post_word_count  \n",
       "0                53                9  \n",
       "1                36                7  \n",
       "2                47               10  "
      ]
     },
     "execution_count": 7,
     "metadata": {},
     "output_type": "execute_result"
    }
   ],
   "source": [
    "# Create a column for post word count\n",
    "df['post_word_count'] = df['title'].map(lambda x: len(x.split()))\n",
    "df.head(3)"
   ]
  },
  {
   "cell_type": "code",
   "execution_count": 8,
   "metadata": {},
   "outputs": [
    {
     "data": {
      "text/html": [
       "<div>\n",
       "<style scoped>\n",
       "    .dataframe tbody tr th:only-of-type {\n",
       "        vertical-align: middle;\n",
       "    }\n",
       "\n",
       "    .dataframe tbody tr th {\n",
       "        vertical-align: top;\n",
       "    }\n",
       "\n",
       "    .dataframe thead th {\n",
       "        text-align: right;\n",
       "    }\n",
       "</style>\n",
       "<table border=\"1\" class=\"dataframe\">\n",
       "  <thead>\n",
       "    <tr style=\"text-align: right;\">\n",
       "      <th></th>\n",
       "      <th>subreddit</th>\n",
       "      <th>title</th>\n",
       "      <th>post_char_length</th>\n",
       "      <th>post_word_count</th>\n",
       "      <th>sentiment_compound</th>\n",
       "      <th>sentiment_negative</th>\n",
       "      <th>sentiment_neutral</th>\n",
       "      <th>sentiment_positive</th>\n",
       "    </tr>\n",
       "  </thead>\n",
       "  <tbody>\n",
       "    <tr>\n",
       "      <th>0</th>\n",
       "      <td>wallstreetbets</td>\n",
       "      <td>You all should try to SPAC Jeremy Fragrance's ...</td>\n",
       "      <td>53</td>\n",
       "      <td>9</td>\n",
       "      <td>0.0000</td>\n",
       "      <td>0.000</td>\n",
       "      <td>1.000</td>\n",
       "      <td>0.000</td>\n",
       "    </tr>\n",
       "    <tr>\n",
       "      <th>1</th>\n",
       "      <td>wallstreetbets</td>\n",
       "      <td>Are you ready for marriage love test</td>\n",
       "      <td>36</td>\n",
       "      <td>7</td>\n",
       "      <td>0.7717</td>\n",
       "      <td>0.000</td>\n",
       "      <td>0.427</td>\n",
       "      <td>0.573</td>\n",
       "    </tr>\n",
       "    <tr>\n",
       "      <th>2</th>\n",
       "      <td>wallstreetbets</td>\n",
       "      <td>Serious question: Is it too late to buy in now?</td>\n",
       "      <td>47</td>\n",
       "      <td>10</td>\n",
       "      <td>-0.0772</td>\n",
       "      <td>0.126</td>\n",
       "      <td>0.874</td>\n",
       "      <td>0.000</td>\n",
       "    </tr>\n",
       "  </tbody>\n",
       "</table>\n",
       "</div>"
      ],
      "text/plain": [
       "        subreddit                                              title  \\\n",
       "0  wallstreetbets  You all should try to SPAC Jeremy Fragrance's ...   \n",
       "1  wallstreetbets               Are you ready for marriage love test   \n",
       "2  wallstreetbets    Serious question: Is it too late to buy in now?   \n",
       "\n",
       "   post_char_length  post_word_count  sentiment_compound  sentiment_negative  \\\n",
       "0                53                9              0.0000               0.000   \n",
       "1                36                7              0.7717               0.000   \n",
       "2                47               10             -0.0772               0.126   \n",
       "\n",
       "   sentiment_neutral  sentiment_positive  \n",
       "0              1.000               0.000  \n",
       "1              0.427               0.573  \n",
       "2              0.874               0.000  "
      ]
     },
     "execution_count": 8,
     "metadata": {},
     "output_type": "execute_result"
    }
   ],
   "source": [
    "# Instantiate sentiment intensity analyzer\n",
    "sia = SentimentIntensityAnalyzer()\n",
    "\n",
    "# Create a column for the following sentiment analysis scores:\n",
    "# negative, neutral, positive, and compound\n",
    "df['sentiment_compound'] = df['title'].map(lambda x: sia.polarity_scores(x)['compound'])\n",
    "df['sentiment_negative'] = df['title'].map(lambda x: sia.polarity_scores(x)['neg'])\n",
    "df['sentiment_neutral'] = df['title'].map(lambda x: sia.polarity_scores(x)['neu'])\n",
    "df['sentiment_positive'] = df['title'].map(lambda x: sia.polarity_scores(x)['pos'])\n",
    "\n",
    "# Check code execution\n",
    "df.head(3)"
   ]
  },
  {
   "cell_type": "markdown",
   "metadata": {},
   "source": [
    "### Exploratory Data Analysis & Data Visualization"
   ]
  },
  {
   "cell_type": "code",
   "execution_count": 9,
   "metadata": {},
   "outputs": [
    {
     "data": {
      "text/plain": [
       "SatoshiStreetBets    0.502748\n",
       "wallstreetbets       0.497252\n",
       "Name: subreddit, dtype: float64"
      ]
     },
     "execution_count": 9,
     "metadata": {},
     "output_type": "execute_result"
    }
   ],
   "source": [
    "# Check normalized value counts\n",
    "df['subreddit'].value_counts(normalize=True)"
   ]
  },
  {
   "cell_type": "code",
   "execution_count": 10,
   "metadata": {},
   "outputs": [
    {
     "data": {
      "text/plain": [
       "{'neg': 0.0, 'neu': 1.0, 'pos': 0.0, 'compound': 0.0}"
      ]
     },
     "execution_count": 10,
     "metadata": {},
     "output_type": "execute_result"
    }
   ],
   "source": [
    "# Sentiment analysis of the word 'wallstreetbets' - neutral\n",
    "sia.polarity_scores('wallstreetbets')"
   ]
  },
  {
   "cell_type": "code",
   "execution_count": 11,
   "metadata": {},
   "outputs": [
    {
     "data": {
      "text/plain": [
       "{'neg': 0.0, 'neu': 1.0, 'pos': 0.0, 'compound': 0.0}"
      ]
     },
     "execution_count": 11,
     "metadata": {},
     "output_type": "execute_result"
    }
   ],
   "source": [
    "# Sentiment analysis of the word 'SatoshiStreetBets' - neutral\n",
    "sia.polarity_scores('SatoshiStreetBets')"
   ]
  },
  {
   "cell_type": "code",
   "execution_count": 12,
   "metadata": {},
   "outputs": [
    {
     "data": {
      "image/png": "[encoded data removed]",
      "text/plain": [
       "<Figure size 432x288 with 1 Axes>"
      ]
     },
     "metadata": {
      "needs_background": "light"
     },
     "output_type": "display_data"
    }
   ],
   "source": [
    "# Histogram of post character length\n",
    "plt.title('Distribution of Post Character Length')\n",
    "plt.xlabel('Character Length')\n",
    "plt.ylabel('Frequency')\n",
    "plt.hist(x=df[df['subreddit']=='wallstreetbets']['post_char_length'],\n",
    "         bins=25, alpha=0.5, label='WSB')\n",
    "plt.hist(x=df[df['subreddit']=='SatoshiStreetBets']['post_char_length'],\n",
    "         bins=25, alpha=0.5, label='SSB')\n",
    "plt.legend();"
   ]
  },
  {
   "cell_type": "markdown",
   "metadata": {},
   "source": [
    "**Interpretation:** The distribution of post character length is skewed to the right for both WSB and SSB. Both subreddits have a similar distribution."
   ]
  },
  {
   "cell_type": "code",
   "execution_count": 13,
   "metadata": {},
   "outputs": [
    {
     "data": {
      "image/png": "[encoded data removed]",
      "text/plain": [
       "<Figure size 432x288 with 1 Axes>"
      ]
     },
     "metadata": {
      "needs_background": "light"
     },
     "output_type": "display_data"
    }
   ],
   "source": [
    "# Histogram of post word count\n",
    "plt.title('Distribution of Post Word Count')\n",
    "plt.xlabel('Word Count')\n",
    "plt.ylabel('Frequency')\n",
    "plt.hist(x=df[df['subreddit']=='wallstreetbets']['post_word_count'],\n",
    "         bins=25, alpha=0.5, label='WSB')\n",
    "plt.hist(x=df[df['subreddit']=='SatoshiStreetBets']['post_word_count'],\n",
    "         bins=25, alpha=0.5, label='SSB')\n",
    "plt.legend();"
   ]
  },
  {
   "cell_type": "markdown",
   "metadata": {},
   "source": [
    "**Interpretation:** The distribution of post word count is skewed to the right for both WSB and SSB. Both subreddits have a similar distribution."
   ]
  },
  {
   "cell_type": "code",
   "execution_count": 14,
   "metadata": {},
   "outputs": [
    {
     "data": {
      "image/png": "[encoded data removed]",
      "text/plain": [
       "<Figure size 432x288 with 1 Axes>"
      ]
     },
     "metadata": {
      "needs_background": "light"
     },
     "output_type": "display_data"
    }
   ],
   "source": [
    "# Histogram of sentiment compound score\n",
    "plt.title('Distribution of Sentiment Compound Score')\n",
    "plt.xlabel('Compound Score')\n",
    "plt.ylabel('Frequency')\n",
    "plt.hist(x=df[df['subreddit']=='wallstreetbets']['sentiment_compound'],\n",
    "         bins=25, alpha=0.5, label='WSB')\n",
    "plt.hist(x=df[df['subreddit']=='SatoshiStreetBets']['sentiment_compound'],\n",
    "         bins=25, alpha=0.5, label='SSB')\n",
    "plt.legend();"
   ]
  },
  {
   "cell_type": "markdown",
   "metadata": {},
   "source": [
    "**Interpretation:** Both subreddits have mostly neutral posts. The frequency of positive compound scores seems to outweigh that of negative compound scores."
   ]
  },
  {
   "cell_type": "code",
   "execution_count": 15,
   "metadata": {},
   "outputs": [
    {
     "data": {
      "image/png": "[encoded data removed]",
      "text/plain": [
       "<Figure size 576x432 with 1 Axes>"
      ]
     },
     "metadata": {
      "needs_background": "light"
     },
     "output_type": "display_data"
    }
   ],
   "source": [
    "# Boxplot for sentiment compound scores\n",
    "df.boxplot('sentiment_compound', by='subreddit', figsize=(8,6))\n",
    "plt.title('Sentiment Compound Scores');"
   ]
  },
  {
   "cell_type": "markdown",
   "metadata": {},
   "source": [
    "**Interpretation:** SSB appears to have the most outliers in both the upper and lower bounds, which means that there are a lot of unusually positive and negative posts. The range of compound scores is higher for WSB, which means that post sentiment is more widely spread out for WSB."
   ]
  },
  {
   "cell_type": "code",
   "execution_count": 16,
   "metadata": {},
   "outputs": [
    {
     "name": "stdout",
     "output_type": "stream",
     "text": [
      "sentiment_compound    0.075297\n",
      "dtype: float64\n",
      "sentiment_negative    0.050214\n",
      "dtype: float64\n",
      "sentiment_neutral    0.845091\n",
      "dtype: float64\n",
      "sentiment_positive    0.102061\n",
      "dtype: float64\n"
     ]
    }
   ],
   "source": [
    "# Average sentiment of WSB\n",
    "print(df[df['subreddit']=='wallstreetbets'][['sentiment_compound']].mean())\n",
    "print(df[df['subreddit']=='wallstreetbets'][['sentiment_negative']].mean())\n",
    "print(df[df['subreddit']=='wallstreetbets'][['sentiment_neutral']].mean())\n",
    "print(df[df['subreddit']=='wallstreetbets'][['sentiment_positive']].mean())"
   ]
  },
  {
   "cell_type": "code",
   "execution_count": 17,
   "metadata": {},
   "outputs": [
    {
     "name": "stdout",
     "output_type": "stream",
     "text": [
      "sentiment_compound    0.068435\n",
      "dtype: float64\n",
      "sentiment_negative    0.046783\n",
      "dtype: float64\n",
      "sentiment_neutral    0.859415\n",
      "dtype: float64\n",
      "sentiment_positive    0.093802\n",
      "dtype: float64\n"
     ]
    }
   ],
   "source": [
    "# Average sentiment of SSB\n",
    "print(df[df['subreddit']=='SatoshiStreetBets'][['sentiment_compound']].mean())\n",
    "print(df[df['subreddit']=='SatoshiStreetBets'][['sentiment_negative']].mean())\n",
    "print(df[df['subreddit']=='SatoshiStreetBets'][['sentiment_neutral']].mean())\n",
    "print(df[df['subreddit']=='SatoshiStreetBets'][['sentiment_positive']].mean())"
   ]
  },
  {
   "cell_type": "markdown",
   "metadata": {},
   "source": [
    "**Interpretation:** WSB and SSB have similar average sentiment compound scores. WSB seems to have a slightly more positive compound score than SSB. The difference in average sentiment compound scores appears to be negligible, but hypothesis testing would have to be performed to verify the statistical significance in the population means."
   ]
  },
  {
   "cell_type": "code",
   "execution_count": 18,
   "metadata": {},
   "outputs": [
    {
     "data": {
      "text/html": [
       "<div>\n",
       "<style scoped>\n",
       "    .dataframe tbody tr th:only-of-type {\n",
       "        vertical-align: middle;\n",
       "    }\n",
       "\n",
       "    .dataframe tbody tr th {\n",
       "        vertical-align: top;\n",
       "    }\n",
       "\n",
       "    .dataframe thead th {\n",
       "        text-align: right;\n",
       "    }\n",
       "</style>\n",
       "<table border=\"1\" class=\"dataframe\">\n",
       "  <thead>\n",
       "    <tr style=\"text-align: right;\">\n",
       "      <th></th>\n",
       "      <th>word</th>\n",
       "      <th>word_count</th>\n",
       "    </tr>\n",
       "  </thead>\n",
       "  <tbody>\n",
       "    <tr>\n",
       "      <th>0</th>\n",
       "      <td>gme</td>\n",
       "      <td>336</td>\n",
       "    </tr>\n",
       "    <tr>\n",
       "      <th>1</th>\n",
       "      <td>amc</td>\n",
       "      <td>119</td>\n",
       "    </tr>\n",
       "    <tr>\n",
       "      <th>2</th>\n",
       "      <td>moon</td>\n",
       "      <td>113</td>\n",
       "    </tr>\n",
       "    <tr>\n",
       "      <th>3</th>\n",
       "      <td>stock</td>\n",
       "      <td>94</td>\n",
       "    </tr>\n",
       "    <tr>\n",
       "      <th>4</th>\n",
       "      <td>apes</td>\n",
       "      <td>78</td>\n",
       "    </tr>\n",
       "  </tbody>\n",
       "</table>\n",
       "</div>"
      ],
      "text/plain": [
       "    word  word_count\n",
       "0    gme         336\n",
       "1    amc         119\n",
       "2   moon         113\n",
       "3  stock          94\n",
       "4   apes          78"
      ]
     },
     "execution_count": 18,
     "metadata": {},
     "output_type": "execute_result"
    }
   ],
   "source": [
    "# Count the most commonly used words for WSB\n",
    "\n",
    "# Define X\n",
    "X = df[df['subreddit']=='wallstreetbets']['title']\n",
    "\n",
    "# Instantiate a CV object\n",
    "cv = CountVectorizer(stop_words='english')\n",
    "\n",
    "# Fit the CV on posts\n",
    "cv.fit(X)\n",
    "\n",
    "# Transform data\n",
    "X_cv = cv.transform(X)\n",
    "\n",
    "# Convert to a dataframe\n",
    "cv_df = pd.DataFrame(X_cv.todense(),columns=cv.get_feature_names())\n",
    "\n",
    "# Create a WSB dataframe containing the 100 most common words and word count\n",
    "wsb_cv_df = pd.DataFrame(data=cv_df.sum().sort_values(ascending=False).head(100),\n",
    "                        columns=['word_count'])\n",
    "\n",
    "# Change index to a column\n",
    "wsb_cv_df.reset_index(inplace=True)\n",
    "wsb_cv_df = wsb_cv_df.rename(columns={'index':'word'})\n",
    "\n",
    "# Save wsb_cv_df to csv\n",
    "wsb_cv_df.to_csv('../datasets/wsb_words.csv', index=False)\n",
    "\n",
    "# Check code execution\n",
    "wsb_cv_df.head()"
   ]
  },
  {
   "cell_type": "code",
   "execution_count": 19,
   "metadata": {},
   "outputs": [
    {
     "data": {
      "image/png": "[encoded data removed]",
      "text/plain": [
       "<Figure size 432x288 with 1 Axes>"
      ]
     },
     "metadata": {
      "needs_background": "light"
     },
     "output_type": "display_data"
    }
   ],
   "source": [
    "# Bar chart of 15 most commonly seen words in WSB\n",
    "plt.barh(y=wsb_cv_df['word'].head(15), width=wsb_cv_df['word_count'].head(15))\n",
    "plt.title('15 Most Common Words in r/wallstreetbets')\n",
    "plt.xlabel('Word Count')\n",
    "plt.ylabel('Word');"
   ]
  },
  {
   "cell_type": "code",
   "execution_count": 20,
   "metadata": {},
   "outputs": [
    {
     "data": {
      "text/html": [
       "<div>\n",
       "<style scoped>\n",
       "    .dataframe tbody tr th:only-of-type {\n",
       "        vertical-align: middle;\n",
       "    }\n",
       "\n",
       "    .dataframe tbody tr th {\n",
       "        vertical-align: top;\n",
       "    }\n",
       "\n",
       "    .dataframe thead th {\n",
       "        text-align: right;\n",
       "    }\n",
       "</style>\n",
       "<table border=\"1\" class=\"dataframe\">\n",
       "  <thead>\n",
       "    <tr style=\"text-align: right;\">\n",
       "      <th></th>\n",
       "      <th>word</th>\n",
       "      <th>word_count</th>\n",
       "    </tr>\n",
       "  </thead>\n",
       "  <tbody>\n",
       "    <tr>\n",
       "      <th>0</th>\n",
       "      <td>ada</td>\n",
       "      <td>159</td>\n",
       "    </tr>\n",
       "    <tr>\n",
       "      <th>1</th>\n",
       "      <td>crypto</td>\n",
       "      <td>138</td>\n",
       "    </tr>\n",
       "    <tr>\n",
       "      <th>2</th>\n",
       "      <td>coin</td>\n",
       "      <td>101</td>\n",
       "    </tr>\n",
       "    <tr>\n",
       "      <th>3</th>\n",
       "      <td>buy</td>\n",
       "      <td>92</td>\n",
       "    </tr>\n",
       "    <tr>\n",
       "      <th>4</th>\n",
       "      <td>moon</td>\n",
       "      <td>72</td>\n",
       "    </tr>\n",
       "  </tbody>\n",
       "</table>\n",
       "</div>"
      ],
      "text/plain": [
       "     word  word_count\n",
       "0     ada         159\n",
       "1  crypto         138\n",
       "2    coin         101\n",
       "3     buy          92\n",
       "4    moon          72"
      ]
     },
     "execution_count": 20,
     "metadata": {},
     "output_type": "execute_result"
    }
   ],
   "source": [
    "# Count the most commonly used words for SSB\n",
    "\n",
    "# Define X\n",
    "X = df[df['subreddit']=='SatoshiStreetBets']['title']\n",
    "\n",
    "# Instantiate a CV object\n",
    "cv = CountVectorizer(stop_words='english')\n",
    "\n",
    "# Fit the CV on posts\n",
    "cv.fit(X)\n",
    "\n",
    "# Transform data\n",
    "X_cv = cv.transform(X)\n",
    "\n",
    "# Convert to a dataframe\n",
    "cv_df = pd.DataFrame(X_cv.todense(),columns=cv.get_feature_names())\n",
    "\n",
    "# Create a SSB dataframe containing the 100 most common words and word count\n",
    "ssb_cv_df = pd.DataFrame(data=cv_df.sum().sort_values(ascending=False).head(100),\n",
    "                        columns=['word_count'])\n",
    "\n",
    "# Change index to a column\n",
    "ssb_cv_df.reset_index(inplace=True)\n",
    "ssb_cv_df = ssb_cv_df.rename(columns={'index':'word'})\n",
    "\n",
    "# Save ssb_cv_df to csv\n",
    "ssb_cv_df.to_csv('../datasets/ssb_words.csv', index=False)\n",
    "\n",
    "# Check code execution\n",
    "ssb_cv_df.head()"
   ]
  },
  {
   "cell_type": "code",
   "execution_count": 21,
   "metadata": {},
   "outputs": [
    {
     "data": {
      "image/png": "[encoded data removed]",
      "text/plain": [
       "<Figure size 432x288 with 1 Axes>"
      ]
     },
     "metadata": {
      "needs_background": "light"
     },
     "output_type": "display_data"
    }
   ],
   "source": [
    "# Bar chart of 15 most commonly seen words in SSB\n",
    "plt.barh(y=ssb_cv_df['word'].head(15), width=ssb_cv_df['word_count'].head(15))\n",
    "plt.title('15 Most Common Words in r/SatoshiStreetBets')\n",
    "plt.xlabel('Word Count')\n",
    "plt.ylabel('Word');"
   ]
  },
  {
   "cell_type": "code",
   "execution_count": 22,
   "metadata": {},
   "outputs": [
    {
     "name": "stdout",
     "output_type": "stream",
     "text": [
      "41\n",
      "['10', '2021', 'amp', 'big', 'bought', 'buy', 'buying', 'day', 'did', 'dip', 'don', 'going', 'good', 'got', 'guys', 'help', 'hold', 'holding', 'just', 'know', 'let', 'like', 'long', 'make', 'market', 'monday', 'money', 'moon', 'new', 'news', 'people', 'price', 'right', 'short', 'think', 'time', 'today', 'trading', 've', 'way', 'yolo']\n"
     ]
    }
   ],
   "source": [
    "# Find matches for the 100 most common words in WSB and SSB\n",
    "common_words = []\n",
    "for word in wsb_cv_df['word']:\n",
    "    if word in list(ssb_cv_df['word']):\n",
    "        common_words.append(word)\n",
    "print(len(common_words))\n",
    "print(sorted(common_words))"
   ]
  },
  {
   "cell_type": "code",
   "execution_count": 23,
   "metadata": {},
   "outputs": [
    {
     "data": {
      "text/plain": [
       "0.41"
      ]
     },
     "execution_count": 23,
     "metadata": {},
     "output_type": "execute_result"
    }
   ],
   "source": [
    "# Match percent calculation\n",
    "len(common_words)/100"
   ]
  },
  {
   "cell_type": "markdown",
   "metadata": {},
   "source": [
    "**Interpretation:** Of the 100 most commonly found words in the WSB and SSB subreddits, 41 words are shared between the two. A 41% match is high and indicates that a lot of terminology is common to users of both subreddits. This may limit the accuracy of any predictive models built to distinguish the two subreddits."
   ]
  },
  {
   "cell_type": "code",
   "execution_count": 24,
   "metadata": {},
   "outputs": [
    {
     "name": "stdout",
     "output_type": "stream",
     "text": [
      "59\n",
      "['account', 'advice', 'amc', 'ape', 'apes', 'app', 'bb', 'calls', 'cciv', 'coming', 'dd', 'diamond', 'does', 'fellow', 'financial', 'fuck', 'game', 'gamestop', 'gme', 'goes', 'gonna', 'hands', 'hedge', 'life', 'line', 'lucid', 'march', 'melvin', 'meme', 'need', 'options', 'post', 'real', 'retards', 'robinhood', 'sec', 'sell', 'shares', 'shit', 'sign', 'sos', 'squeeze', 'stimulus', 'stock', 'stocks', 'stop', 'street', 'strong', 'tendies', 'trying', 'use', 'using', 'video', 'wall', 'wallstreetbets', 'want', 'week', 'weeks', 'wsb']\n"
     ]
    }
   ],
   "source": [
    "# 100 most common words in WSB unique to WSB\n",
    "wsb_words_only = []\n",
    "for word in wsb_cv_df['word']:\n",
    "    if word not in common_words:\n",
    "        wsb_words_only.append(word)\n",
    "print(len(wsb_words_only))\n",
    "print(sorted(wsb_words_only))"
   ]
  },
  {
   "cell_type": "markdown",
   "metadata": {},
   "source": [
    "**Interpretation:** The above 59 words are unique to WSB's top 100 most common words list, but that doesn't mean these words are not found in SSB posts. They are simply just not the most common words in SSB."
   ]
  },
  {
   "cell_type": "code",
   "execution_count": 25,
   "metadata": {},
   "outputs": [
    {
     "name": "stdout",
     "output_type": "stream",
     "text": [
      "59\n",
      "['100', 'ada', 'best', 'bitcoin', 'bnb', 'bsc', 'btc', 'btt', 'bull', 'cap', 'cardano', 'check', 'coin', 'coinbase', 'coins', 'crash', 'cro', 'crypto', 'days', 'doge', 'dogecoin', 'elon', 'eth', 'exchange', 'free', 'future', 'gains', 'great', 'high', 'investment', 'join', 'kucoin', 'listed', 'look', 'looking', 'love', 'low', 'million', 'moonshot', 'musk', 'network', 'opportunity', 'portfolio', 'potential', 'project', 'pump', 'ready', 'sale', 'staking', 'start', 'stc', 'term', 'thoughts', 'token', 'usd', 'value', 'vet', 'wallet', 'xrp']\n"
     ]
    }
   ],
   "source": [
    "# 100 most common words in SSB unique to SSB\n",
    "ssb_words_only = []\n",
    "for word in ssb_cv_df['word']:\n",
    "    if word not in common_words:\n",
    "        ssb_words_only.append(word)\n",
    "print(len(ssb_words_only))\n",
    "print(sorted(ssb_words_only))"
   ]
  },
  {
   "cell_type": "markdown",
   "metadata": {},
   "source": [
    "**Interpretation:** The above 59 words are unique to SSB's top 100 most common words list, but again, it is possible for them to appear in WSB posts. These shared terminologies are likely to impact performance on predictive models."
   ]
  },
  {
   "cell_type": "code",
   "execution_count": 26,
   "metadata": {},
   "outputs": [
    {
     "data": {
      "text/html": [
       "<div>\n",
       "<style scoped>\n",
       "    .dataframe tbody tr th:only-of-type {\n",
       "        vertical-align: middle;\n",
       "    }\n",
       "\n",
       "    .dataframe tbody tr th {\n",
       "        vertical-align: top;\n",
       "    }\n",
       "\n",
       "    .dataframe thead th {\n",
       "        text-align: right;\n",
       "    }\n",
       "</style>\n",
       "<table border=\"1\" class=\"dataframe\">\n",
       "  <thead>\n",
       "    <tr style=\"text-align: right;\">\n",
       "      <th></th>\n",
       "      <th>shared_common_words</th>\n",
       "    </tr>\n",
       "  </thead>\n",
       "  <tbody>\n",
       "    <tr>\n",
       "      <th>0</th>\n",
       "      <td>moon</td>\n",
       "    </tr>\n",
       "    <tr>\n",
       "      <th>1</th>\n",
       "      <td>buy</td>\n",
       "    </tr>\n",
       "    <tr>\n",
       "      <th>2</th>\n",
       "      <td>just</td>\n",
       "    </tr>\n",
       "    <tr>\n",
       "      <th>3</th>\n",
       "      <td>like</td>\n",
       "    </tr>\n",
       "    <tr>\n",
       "      <th>4</th>\n",
       "      <td>hold</td>\n",
       "    </tr>\n",
       "  </tbody>\n",
       "</table>\n",
       "</div>"
      ],
      "text/plain": [
       "  shared_common_words\n",
       "0                moon\n",
       "1                 buy\n",
       "2                just\n",
       "3                like\n",
       "4                hold"
      ]
     },
     "execution_count": 26,
     "metadata": {},
     "output_type": "execute_result"
    }
   ],
   "source": [
    "# Create a shared common words dataframe\n",
    "common_words_df = pd.DataFrame(data=common_words, columns=['shared_common_words'])\n",
    "common_words_df.head()"
   ]
  },
  {
   "cell_type": "code",
   "execution_count": 27,
   "metadata": {},
   "outputs": [],
   "source": [
    "# Create a dictionary for WSB word count\n",
    "wsb_shared_word_count = {}\n",
    "for word in common_words_df['shared_common_words']:\n",
    "    index = 0\n",
    "    for w in wsb_cv_df['word']:\n",
    "        if word == w:\n",
    "            wsb_shared_word_count[word] = wsb_cv_df['word_count'][index]\n",
    "        index += 1"
   ]
  },
  {
   "cell_type": "code",
   "execution_count": 28,
   "metadata": {},
   "outputs": [
    {
     "data": {
      "text/html": [
       "<div>\n",
       "<style scoped>\n",
       "    .dataframe tbody tr th:only-of-type {\n",
       "        vertical-align: middle;\n",
       "    }\n",
       "\n",
       "    .dataframe tbody tr th {\n",
       "        vertical-align: top;\n",
       "    }\n",
       "\n",
       "    .dataframe thead th {\n",
       "        text-align: right;\n",
       "    }\n",
       "</style>\n",
       "<table border=\"1\" class=\"dataframe\">\n",
       "  <thead>\n",
       "    <tr style=\"text-align: right;\">\n",
       "      <th></th>\n",
       "      <th>shared_common_words</th>\n",
       "      <th>wsb_word_count</th>\n",
       "    </tr>\n",
       "  </thead>\n",
       "  <tbody>\n",
       "    <tr>\n",
       "      <th>0</th>\n",
       "      <td>moon</td>\n",
       "      <td>113</td>\n",
       "    </tr>\n",
       "    <tr>\n",
       "      <th>1</th>\n",
       "      <td>buy</td>\n",
       "      <td>71</td>\n",
       "    </tr>\n",
       "    <tr>\n",
       "      <th>2</th>\n",
       "      <td>just</td>\n",
       "      <td>67</td>\n",
       "    </tr>\n",
       "    <tr>\n",
       "      <th>3</th>\n",
       "      <td>like</td>\n",
       "      <td>64</td>\n",
       "    </tr>\n",
       "    <tr>\n",
       "      <th>4</th>\n",
       "      <td>hold</td>\n",
       "      <td>52</td>\n",
       "    </tr>\n",
       "  </tbody>\n",
       "</table>\n",
       "</div>"
      ],
      "text/plain": [
       "  shared_common_words  wsb_word_count\n",
       "0                moon             113\n",
       "1                 buy              71\n",
       "2                just              67\n",
       "3                like              64\n",
       "4                hold              52"
      ]
     },
     "execution_count": 28,
     "metadata": {},
     "output_type": "execute_result"
    }
   ],
   "source": [
    "# Create a new column with WSB word count\n",
    "common_words_df['wsb_word_count'] = common_words_df['shared_common_words'].map(wsb_shared_word_count)\n",
    "\n",
    "# Check code execution\n",
    "common_words_df.head()"
   ]
  },
  {
   "cell_type": "code",
   "execution_count": 29,
   "metadata": {},
   "outputs": [],
   "source": [
    "# Create a dictionary for SSB word count\n",
    "ssb_shared_word_count = {}\n",
    "for word in common_words_df['shared_common_words']:\n",
    "    index = 0\n",
    "    for w in ssb_cv_df['word']:\n",
    "        if word == w:\n",
    "            ssb_shared_word_count[word] = ssb_cv_df['word_count'][index]\n",
    "        index += 1"
   ]
  },
  {
   "cell_type": "code",
   "execution_count": 30,
   "metadata": {},
   "outputs": [
    {
     "data": {
      "text/html": [
       "<div>\n",
       "<style scoped>\n",
       "    .dataframe tbody tr th:only-of-type {\n",
       "        vertical-align: middle;\n",
       "    }\n",
       "\n",
       "    .dataframe tbody tr th {\n",
       "        vertical-align: top;\n",
       "    }\n",
       "\n",
       "    .dataframe thead th {\n",
       "        text-align: right;\n",
       "    }\n",
       "</style>\n",
       "<table border=\"1\" class=\"dataframe\">\n",
       "  <thead>\n",
       "    <tr style=\"text-align: right;\">\n",
       "      <th></th>\n",
       "      <th>shared_common_words</th>\n",
       "      <th>wsb_word_count</th>\n",
       "      <th>ssb_word_count</th>\n",
       "      <th>total_word_count</th>\n",
       "    </tr>\n",
       "  </thead>\n",
       "  <tbody>\n",
       "    <tr>\n",
       "      <th>0</th>\n",
       "      <td>moon</td>\n",
       "      <td>113</td>\n",
       "      <td>72</td>\n",
       "      <td>185</td>\n",
       "    </tr>\n",
       "    <tr>\n",
       "      <th>1</th>\n",
       "      <td>buy</td>\n",
       "      <td>71</td>\n",
       "      <td>92</td>\n",
       "      <td>163</td>\n",
       "    </tr>\n",
       "    <tr>\n",
       "      <th>2</th>\n",
       "      <td>just</td>\n",
       "      <td>67</td>\n",
       "      <td>63</td>\n",
       "      <td>130</td>\n",
       "    </tr>\n",
       "    <tr>\n",
       "      <th>3</th>\n",
       "      <td>like</td>\n",
       "      <td>64</td>\n",
       "      <td>34</td>\n",
       "      <td>98</td>\n",
       "    </tr>\n",
       "    <tr>\n",
       "      <th>4</th>\n",
       "      <td>hold</td>\n",
       "      <td>52</td>\n",
       "      <td>17</td>\n",
       "      <td>69</td>\n",
       "    </tr>\n",
       "  </tbody>\n",
       "</table>\n",
       "</div>"
      ],
      "text/plain": [
       "  shared_common_words  wsb_word_count  ssb_word_count  total_word_count\n",
       "0                moon             113              72               185\n",
       "1                 buy              71              92               163\n",
       "2                just              67              63               130\n",
       "3                like              64              34                98\n",
       "4                hold              52              17                69"
      ]
     },
     "execution_count": 30,
     "metadata": {},
     "output_type": "execute_result"
    }
   ],
   "source": [
    "# Create a new column with SSB word count\n",
    "common_words_df['ssb_word_count'] = common_words_df['shared_common_words'].map(ssb_shared_word_count)\n",
    "\n",
    "# Create a new column for total word count\n",
    "common_words_df['total_word_count'] = common_words_df['wsb_word_count'] + common_words_df['ssb_word_count']\n",
    "\n",
    "# Check code execution\n",
    "common_words_df.head(5)"
   ]
  },
  {
   "cell_type": "code",
   "execution_count": 31,
   "metadata": {},
   "outputs": [
    {
     "data": {
      "image/png": "[encoded data removed]",
      "text/plain": [
       "<Figure size 432x288 with 1 Axes>"
      ]
     },
     "metadata": {
      "needs_background": "light"
     },
     "output_type": "display_data"
    }
   ],
   "source": [
    "# Histogram of 41 most common words shared between WSB and SSB\n",
    "plt.title('Distribution of Most Common Words Shared between WSB and SSB')\n",
    "plt.xlabel('Word Count')\n",
    "plt.ylabel('Frequency')\n",
    "plt.hist(x=common_words_df['wsb_word_count'],\n",
    "         bins=30, alpha=0.5, label='WSB')\n",
    "plt.hist(x=common_words_df['ssb_word_count'],\n",
    "         bins=30, alpha=0.5, label='SSB')\n",
    "plt.legend();"
   ]
  },
  {
   "cell_type": "markdown",
   "metadata": {},
   "source": [
    "**Interpretation:** The distribution of the 41 most common words shared between WSB and SSB are shown here. As expected, the distribution is somewhat different for the two subreddits."
   ]
  },
  {
   "cell_type": "code",
   "execution_count": 32,
   "metadata": {},
   "outputs": [
    {
     "data": {
      "text/plain": [
       "41"
      ]
     },
     "execution_count": 32,
     "metadata": {},
     "output_type": "execute_result"
    }
   ],
   "source": [
    "# Save common_words_df to csv\n",
    "common_words_df.to_csv('../datasets/shared_words.csv', index=False)\n",
    "\n",
    "# Check code execution\n",
    "len(common_words_df)"
   ]
  },
  {
   "cell_type": "code",
   "execution_count": 33,
   "metadata": {},
   "outputs": [
    {
     "data": {
      "text/plain": [
       "59"
      ]
     },
     "execution_count": 33,
     "metadata": {},
     "output_type": "execute_result"
    }
   ],
   "source": [
    "# Drop shared words from wsb_cv_df (use in word cloud)\n",
    "for w in wsb_cv_df['word']:\n",
    "    if w not in wsb_words_only:\n",
    "        subset = wsb_cv_df.loc[wsb_cv_df['word'] == w]\n",
    "        wsb_cv_df.drop(index=subset.index, inplace=True)\n",
    "\n",
    "# Overwrite saved file\n",
    "wsb_cv_df.to_csv('../datasets/wsb_words.csv', index=False)\n",
    "        \n",
    "# Check code execution\n",
    "len(wsb_cv_df)"
   ]
  },
  {
   "cell_type": "code",
   "execution_count": 34,
   "metadata": {},
   "outputs": [
    {
     "data": {
      "text/plain": [
       "59"
      ]
     },
     "execution_count": 34,
     "metadata": {},
     "output_type": "execute_result"
    }
   ],
   "source": [
    "# Drop shared words from ssb_cv_df (use in word cloud)\n",
    "for s in ssb_cv_df['word']:\n",
    "    if s not in ssb_words_only:\n",
    "        subset = ssb_cv_df.loc[ssb_cv_df['word'] == s]\n",
    "        ssb_cv_df.drop(index=subset.index, inplace=True)\n",
    "\n",
    "# Overwrite saved file\n",
    "ssb_cv_df.to_csv('../datasets/ssb_words.csv', index=False)\n",
    "        \n",
    "# Check code execution\n",
    "len(ssb_cv_df)"
   ]
  },
  {
   "cell_type": "code",
   "execution_count": 35,
   "metadata": {},
   "outputs": [],
   "source": [
    "# Save cleaned posts as csv file\n",
    "df.to_csv('../datasets/cleaned_posts.csv', index=False)"
   ]
  }
 ],
 "metadata": {
  "kernelspec": {
   "display_name": "Python 3",
   "language": "python",
   "name": "python3"
  },
  "language_info": {
   "codemirror_mode": {
    "name": "ipython",
    "version": 3
   },
   "file_extension": ".py",
   "mimetype": "text/x-python",
   "name": "python",
   "nbconvert_exporter": "python",
   "pygments_lexer": "ipython3",
   "version": "3.8.5"
  }
 },
 "nbformat": 4,
 "nbformat_minor": 4
}
